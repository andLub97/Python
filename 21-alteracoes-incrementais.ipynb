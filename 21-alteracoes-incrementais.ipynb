{
 "cells": [
  {
   "cell_type": "code",
   "execution_count": 1,
   "id": "ce0fb7ff",
   "metadata": {},
   "outputs": [],
   "source": [
    "faturamento = 3000\n",
    "faturamento+=1"
   ]
  },
  {
   "cell_type": "code",
   "execution_count": 2,
   "id": "3fc46097",
   "metadata": {},
   "outputs": [
    {
     "data": {
      "text/plain": [
       "3001"
      ]
     },
     "execution_count": 2,
     "metadata": {},
     "output_type": "execute_result"
    }
   ],
   "source": [
    "faturamento"
   ]
  },
  {
   "cell_type": "code",
   "execution_count": 4,
   "id": "15c25b3e",
   "metadata": {},
   "outputs": [],
   "source": [
    "lista = ['a']\n",
    "lista += ['b']"
   ]
  },
  {
   "cell_type": "code",
   "execution_count": 5,
   "id": "2b6c784f",
   "metadata": {},
   "outputs": [
    {
     "data": {
      "text/plain": [
       "['a', 'b']"
      ]
     },
     "execution_count": 5,
     "metadata": {},
     "output_type": "execute_result"
    }
   ],
   "source": [
    "lista"
   ]
  },
  {
   "cell_type": "code",
   "execution_count": 6,
   "id": "c67cc0f2",
   "metadata": {},
   "outputs": [
    {
     "name": "stdout",
     "output_type": "stream",
     "text": [
      "['a', 'b', 'a', 'b']\n"
     ]
    }
   ],
   "source": [
    "print(2*lista)"
   ]
  },
  {
   "cell_type": "code",
   "execution_count": 21,
   "id": "bec36e1a",
   "metadata": {},
   "outputs": [],
   "source": [
    "frase = 'esse mês vendemos'"
   ]
  },
  {
   "cell_type": "code",
   "execution_count": 22,
   "id": "0af2afe4",
   "metadata": {},
   "outputs": [],
   "source": [
    "frase = frase + ' {} unidades'.format(500)"
   ]
  },
  {
   "cell_type": "code",
   "execution_count": 23,
   "id": "fc1e5790",
   "metadata": {},
   "outputs": [
    {
     "data": {
      "text/plain": [
       "'esse mês vendemos 500 unidades'"
      ]
     },
     "execution_count": 23,
     "metadata": {},
     "output_type": "execute_result"
    }
   ],
   "source": [
    "frase"
   ]
  },
  {
   "cell_type": "code",
   "execution_count": null,
   "id": "98b23809",
   "metadata": {},
   "outputs": [],
   "source": []
  }
 ],
 "metadata": {
  "kernelspec": {
   "display_name": "Python 3",
   "language": "python",
   "name": "python3"
  },
  "language_info": {
   "codemirror_mode": {
    "name": "ipython",
    "version": 3
   },
   "file_extension": ".py",
   "mimetype": "text/x-python",
   "name": "python",
   "nbconvert_exporter": "python",
   "pygments_lexer": "ipython3",
   "version": "3.8.8"
  }
 },
 "nbformat": 4,
 "nbformat_minor": 5
}
