{
 "cells": [
  {
   "cell_type": "code",
   "execution_count": 1,
   "id": "7e882d6f",
   "metadata": {},
   "outputs": [],
   "source": [
    "fat = 2000\n",
    "custo = 500\n",
    "lucro = fat - custo"
   ]
  },
  {
   "cell_type": "code",
   "execution_count": 2,
   "id": "0f75a373",
   "metadata": {},
   "outputs": [
    {
     "name": "stdout",
     "output_type": "stream",
     "text": [
      "o faturamento foi de 2000\n"
     ]
    }
   ],
   "source": [
    "print(\"o faturamento foi de {}\".format(fat))"
   ]
  },
  {
   "cell_type": "code",
   "execution_count": 3,
   "id": "6d49ae27",
   "metadata": {},
   "outputs": [
    {
     "name": "stdout",
     "output_type": "stream",
     "text": [
      "o lucro foi de 1500\n"
     ]
    }
   ],
   "source": [
    "print(\"o lucro foi de {}\".format(fat-custo))"
   ]
  },
  {
   "cell_type": "code",
   "execution_count": 4,
   "id": "d90ceff7",
   "metadata": {},
   "outputs": [
    {
     "name": "stdout",
     "output_type": "stream",
     "text": [
      "a: 1 b: 2\n"
     ]
    }
   ],
   "source": [
    "a = 1\n",
    "b = 2\n",
    "print(\"a: {} b: {}\".format(a,b))"
   ]
  },
  {
   "cell_type": "code",
   "execution_count": null,
   "id": "ae8d5f10",
   "metadata": {},
   "outputs": [],
   "source": []
  }
 ],
 "metadata": {
  "kernelspec": {
   "display_name": "Python 3",
   "language": "python",
   "name": "python3"
  },
  "language_info": {
   "codemirror_mode": {
    "name": "ipython",
    "version": 3
   },
   "file_extension": ".py",
   "mimetype": "text/x-python",
   "name": "python",
   "nbconvert_exporter": "python",
   "pygments_lexer": "ipython3",
   "version": "3.8.8"
  }
 },
 "nbformat": 4,
 "nbformat_minor": 5
}
