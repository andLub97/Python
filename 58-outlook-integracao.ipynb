{
 "cells": [
  {
   "cell_type": "code",
   "execution_count": 3,
   "id": "c9db3f9b",
   "metadata": {},
   "outputs": [],
   "source": [
    "import win32com.client as win32\n",
    "outlook = win32.Dispatch('outlook.application')"
   ]
  },
  {
   "cell_type": "code",
   "execution_count": 4,
   "id": "ca1dafac",
   "metadata": {},
   "outputs": [],
   "source": [
    "mail = outlook.CreateItem(0)\n",
    "mail.To = 'andre.l1997@aluno.ifsc.edu.br'\n",
    "mail.Subject = 'Python'\n",
    "mail.Body = 'Email enviado\\nutilizando python!'\n",
    "#mail.HTMLBody = '<p>dvkdmkd</p>'\n",
    "\n",
    "attachment = r'C:\\Users\\andre\\Desktop\\FenTr\\teste.txt'\n",
    "mail.Attachments.Add(attachment)\n",
    "\n",
    "mail.Send()"
   ]
  },
  {
   "cell_type": "code",
   "execution_count": null,
   "id": "630ea4bd",
   "metadata": {},
   "outputs": [],
   "source": []
  }
 ],
 "metadata": {
  "kernelspec": {
   "display_name": "Python 3",
   "language": "python",
   "name": "python3"
  },
  "language_info": {
   "codemirror_mode": {
    "name": "ipython",
    "version": 3
   },
   "file_extension": ".py",
   "mimetype": "text/x-python",
   "name": "python",
   "nbconvert_exporter": "python",
   "pygments_lexer": "ipython3",
   "version": "3.8.8"
  }
 },
 "nbformat": 4,
 "nbformat_minor": 5
}
