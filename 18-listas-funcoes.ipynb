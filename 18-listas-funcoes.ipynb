{
 "cells": [
  {
   "cell_type": "code",
   "execution_count": 10,
   "id": "bb80e68c",
   "metadata": {},
   "outputs": [],
   "source": [
    "produtos = ['a', 'b', 'A','c', 'd','b']"
   ]
  },
  {
   "cell_type": "code",
   "execution_count": 11,
   "id": "ec25c9b5",
   "metadata": {},
   "outputs": [
    {
     "data": {
      "text/plain": [
       "6"
      ]
     },
     "execution_count": 11,
     "metadata": {},
     "output_type": "execute_result"
    }
   ],
   "source": [
    "len(produtos)"
   ]
  },
  {
   "cell_type": "code",
   "execution_count": 12,
   "id": "b4666a18",
   "metadata": {},
   "outputs": [
    {
     "data": {
      "text/plain": [
       "'d'"
      ]
     },
     "execution_count": 12,
     "metadata": {},
     "output_type": "execute_result"
    }
   ],
   "source": [
    "max(produtos)"
   ]
  },
  {
   "cell_type": "code",
   "execution_count": 13,
   "id": "1652a759",
   "metadata": {},
   "outputs": [],
   "source": [
    "vendas = [1,2,3,4,13,-3]"
   ]
  },
  {
   "cell_type": "code",
   "execution_count": 14,
   "id": "19be4e42",
   "metadata": {},
   "outputs": [
    {
     "data": {
      "text/plain": [
       "-3"
      ]
     },
     "execution_count": 14,
     "metadata": {},
     "output_type": "execute_result"
    }
   ],
   "source": [
    "min(vendas)"
   ]
  },
  {
   "cell_type": "code",
   "execution_count": 15,
   "id": "733f8ff5",
   "metadata": {},
   "outputs": [
    {
     "data": {
      "text/plain": [
       "13"
      ]
     },
     "execution_count": 15,
     "metadata": {},
     "output_type": "execute_result"
    }
   ],
   "source": [
    "max(vendas)"
   ]
  },
  {
   "cell_type": "code",
   "execution_count": null,
   "id": "eb2181b8",
   "metadata": {},
   "outputs": [],
   "source": []
  }
 ],
 "metadata": {
  "kernelspec": {
   "display_name": "Python 3",
   "language": "python",
   "name": "python3"
  },
  "language_info": {
   "codemirror_mode": {
    "name": "ipython",
    "version": 3
   },
   "file_extension": ".py",
   "mimetype": "text/x-python",
   "name": "python",
   "nbconvert_exporter": "python",
   "pygments_lexer": "ipython3",
   "version": "3.8.8"
  }
 },
 "nbformat": 4,
 "nbformat_minor": 5
}
