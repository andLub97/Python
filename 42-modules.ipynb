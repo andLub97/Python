{
 "cells": [
  {
   "cell_type": "code",
   "execution_count": 1,
   "id": "db795d88",
   "metadata": {},
   "outputs": [
    {
     "data": {
      "text/plain": [
       "True"
      ]
     },
     "execution_count": 1,
     "metadata": {},
     "output_type": "execute_result"
    }
   ],
   "source": [
    "import webbrowser as wb\n",
    "\n",
    "wb.open('https://google.com')"
   ]
  },
  {
   "cell_type": "code",
   "execution_count": 4,
   "id": "670b951d",
   "metadata": {},
   "outputs": [],
   "source": [
    "import time"
   ]
  },
  {
   "cell_type": "code",
   "execution_count": 8,
   "id": "bbf112c1",
   "metadata": {},
   "outputs": [
    {
     "data": {
      "text/plain": [
       "1660966432.977228"
      ]
     },
     "execution_count": 8,
     "metadata": {},
     "output_type": "execute_result"
    }
   ],
   "source": [
    "segundos_hoje = time.time()\n",
    "segundos_hoje"
   ]
  },
  {
   "cell_type": "code",
   "execution_count": 9,
   "id": "b9002a47",
   "metadata": {},
   "outputs": [
    {
     "name": "stdout",
     "output_type": "stream",
     "text": [
      "Sat Aug 20 00:33:53 2022\n"
     ]
    }
   ],
   "source": [
    "data_hoje = time.ctime()\n",
    "print(data_hoje)"
   ]
  },
  {
   "cell_type": "code",
   "execution_count": 11,
   "id": "6a6d526d",
   "metadata": {},
   "outputs": [
    {
     "name": "stdout",
     "output_type": "stream",
     "text": [
      "começando...\n",
      "executado 5 segundos após começar\n"
     ]
    }
   ],
   "source": [
    "print('começando...')\n",
    "time.sleep(5)\n",
    "print('executado 5 segundos após começar')"
   ]
  },
  {
   "cell_type": "code",
   "execution_count": 12,
   "id": "c1c5a83f",
   "metadata": {},
   "outputs": [
    {
     "name": "stdout",
     "output_type": "stream",
     "text": [
      "time.struct_time(tm_year=2022, tm_mon=8, tm_mday=20, tm_hour=3, tm_min=37, tm_sec=23, tm_wday=5, tm_yday=232, tm_isdst=0)\n"
     ]
    }
   ],
   "source": [
    "data_atual = time.gmtime()\n",
    "print(data_atual)"
   ]
  },
  {
   "cell_type": "code",
   "execution_count": 13,
   "id": "93eccd25",
   "metadata": {},
   "outputs": [
    {
     "name": "stdout",
     "output_type": "stream",
     "text": [
      "ano: 2022\n"
     ]
    }
   ],
   "source": [
    "ano = data_atual.tm_year\n",
    "print('ano: {}'.format(ano))"
   ]
  },
  {
   "cell_type": "code",
   "execution_count": 20,
   "id": "f0afb10d",
   "metadata": {},
   "outputs": [],
   "source": [
    "from collections import Counter as Ct\n",
    "vendas_tec = {'tableb': 2000,'iphone':122,'tv':0,'galaxy':30000}"
   ]
  },
  {
   "cell_type": "code",
   "execution_count": 21,
   "id": "5e565c07",
   "metadata": {},
   "outputs": [],
   "source": [
    "d = Ct(vendas_tec)"
   ]
  },
  {
   "cell_type": "code",
   "execution_count": 22,
   "id": "867f6c0d",
   "metadata": {},
   "outputs": [
    {
     "data": {
      "text/plain": [
       "[('galaxy', 30000), ('tableb', 2000)]"
      ]
     },
     "execution_count": 22,
     "metadata": {},
     "output_type": "execute_result"
    }
   ],
   "source": [
    "d.most_common(2)"
   ]
  },
  {
   "cell_type": "code",
   "execution_count": null,
   "id": "cb737a69",
   "metadata": {},
   "outputs": [],
   "source": []
  }
 ],
 "metadata": {
  "kernelspec": {
   "display_name": "Python 3",
   "language": "python",
   "name": "python3"
  },
  "language_info": {
   "codemirror_mode": {
    "name": "ipython",
    "version": 3
   },
   "file_extension": ".py",
   "mimetype": "text/x-python",
   "name": "python",
   "nbconvert_exporter": "python",
   "pygments_lexer": "ipython3",
   "version": "3.8.8"
  }
 },
 "nbformat": 4,
 "nbformat_minor": 5
}
