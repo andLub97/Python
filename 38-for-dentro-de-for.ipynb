{
 "cells": [
  {
   "cell_type": "code",
   "execution_count": 4,
   "id": "017949aa",
   "metadata": {},
   "outputs": [
    {
     "name": "stdout",
     "output_type": "stream",
     "text": [
      "['fab2', 'fab3', 'fab4', 'fab5']\n"
     ]
    }
   ],
   "source": [
    "estoque = [\n",
    "    [923,2123,456,890],\n",
    "    [1923,0,46,80],\n",
    "    [22923,623,46,890],\n",
    "    [19323,12,456,90],\n",
    "    [794423,23,456,89],\n",
    "]\n",
    "fabricas = ['fab1','fab2','fab3','fab4','fab5']\n",
    "nivel_minimo = 50\n",
    "fabricas_abaixo = []\n",
    "\n",
    "for i,lista in enumerate(estoque):\n",
    "    for qtde in lista:\n",
    "        if qtde < nivel_minimo:\n",
    "            if fabricas[i] in fabricas_abaixo:\n",
    "                pass\n",
    "            else:\n",
    "                fabricas_abaixo.append(fabricas[i])\n",
    "    \n",
    "print(fabricas_abaixo)"
   ]
  },
  {
   "cell_type": "code",
   "execution_count": null,
   "id": "998104d5",
   "metadata": {},
   "outputs": [],
   "source": []
  }
 ],
 "metadata": {
  "kernelspec": {
   "display_name": "Python 3",
   "language": "python",
   "name": "python3"
  },
  "language_info": {
   "codemirror_mode": {
    "name": "ipython",
    "version": 3
   },
   "file_extension": ".py",
   "mimetype": "text/x-python",
   "name": "python",
   "nbconvert_exporter": "python",
   "pygments_lexer": "ipython3",
   "version": "3.8.8"
  }
 },
 "nbformat": 4,
 "nbformat_minor": 5
}
