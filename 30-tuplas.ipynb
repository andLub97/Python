{
 "cells": [
  {
   "cell_type": "code",
   "execution_count": 1,
   "id": "d5bc8c45",
   "metadata": {},
   "outputs": [
    {
     "data": {
      "text/plain": [
       "'coca'"
      ]
     },
     "execution_count": 1,
     "metadata": {},
     "output_type": "execute_result"
    }
   ],
   "source": [
    "#eficientes, imutáveis, muito usada para dados heterogêneos\n",
    "vendas = ('coca','pepsi')\n",
    "vendas[0]"
   ]
  },
  {
   "cell_type": "code",
   "execution_count": 2,
   "id": "aa2cca7b",
   "metadata": {},
   "outputs": [],
   "source": [
    "produto1, produto2 = vendas"
   ]
  },
  {
   "cell_type": "code",
   "execution_count": 3,
   "id": "95209d92",
   "metadata": {},
   "outputs": [
    {
     "data": {
      "text/plain": [
       "'coca'"
      ]
     },
     "execution_count": 3,
     "metadata": {},
     "output_type": "execute_result"
    }
   ],
   "source": [
    "produto1"
   ]
  },
  {
   "cell_type": "code",
   "execution_count": 4,
   "id": "eabf71f8",
   "metadata": {},
   "outputs": [
    {
     "data": {
      "text/plain": [
       "'pepsi'"
      ]
     },
     "execution_count": 4,
     "metadata": {},
     "output_type": "execute_result"
    }
   ],
   "source": [
    "produto2"
   ]
  },
  {
   "cell_type": "code",
   "execution_count": null,
   "id": "680b11f9",
   "metadata": {},
   "outputs": [],
   "source": [
    "vendas = "
   ]
  }
 ],
 "metadata": {
  "kernelspec": {
   "display_name": "Python 3",
   "language": "python",
   "name": "python3"
  },
  "language_info": {
   "codemirror_mode": {
    "name": "ipython",
    "version": 3
   },
   "file_extension": ".py",
   "mimetype": "text/x-python",
   "name": "python",
   "nbconvert_exporter": "python",
   "pygments_lexer": "ipython3",
   "version": "3.8.8"
  }
 },
 "nbformat": 4,
 "nbformat_minor": 5
}
