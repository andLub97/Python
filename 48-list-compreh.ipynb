{
 "cells": [
  {
   "cell_type": "code",
   "execution_count": 1,
   "id": "36b09ab6",
   "metadata": {},
   "outputs": [],
   "source": [
    "valor_produtos = [100, 150, 300]\n",
    "produto = ['vinho','microondas','cafeteira']"
   ]
  },
  {
   "cell_type": "code",
   "execution_count": 2,
   "id": "883dd59c",
   "metadata": {},
   "outputs": [
    {
     "name": "stdout",
     "output_type": "stream",
     "text": [
      "[30.0, 45.0, 90.0]\n"
     ]
    }
   ],
   "source": [
    "impostos = [preco * 0.3 for preco in valor_produtos]\n",
    "print(impostos)"
   ]
  },
  {
   "cell_type": "code",
   "execution_count": 6,
   "id": "bb9f0aa1",
   "metadata": {},
   "outputs": [],
   "source": [
    "def calcular_imposto(preco, imposto):\n",
    "    return preco * imposto\n",
    "\n",
    "impostos = [calcular_imposto(preco, 0.3) for preco in valor_produtos]"
   ]
  },
  {
   "cell_type": "code",
   "execution_count": 7,
   "id": "e9059abf",
   "metadata": {},
   "outputs": [
    {
     "name": "stdout",
     "output_type": "stream",
     "text": [
      "[30.0, 45.0, 90.0]\n"
     ]
    }
   ],
   "source": [
    "print(impostos)"
   ]
  },
  {
   "cell_type": "code",
   "execution_count": 8,
   "id": "22bf199f",
   "metadata": {},
   "outputs": [],
   "source": [
    "vendas = [('iphone', 555, 678),('galaxy', 155, 78)]\n",
    "\n",
    "vendas2019 = [vendas2019 for produto, vendas2019, vendas2020 in vendas]"
   ]
  },
  {
   "cell_type": "code",
   "execution_count": 9,
   "id": "77ddcf56",
   "metadata": {},
   "outputs": [
    {
     "name": "stdout",
     "output_type": "stream",
     "text": [
      "[555, 155]\n"
     ]
    }
   ],
   "source": [
    "print(vendas2019)"
   ]
  },
  {
   "cell_type": "code",
   "execution_count": null,
   "id": "847a76dd",
   "metadata": {},
   "outputs": [],
   "source": []
  }
 ],
 "metadata": {
  "kernelspec": {
   "display_name": "Python 3",
   "language": "python",
   "name": "python3"
  },
  "language_info": {
   "codemirror_mode": {
    "name": "ipython",
    "version": 3
   },
   "file_extension": ".py",
   "mimetype": "text/x-python",
   "name": "python",
   "nbconvert_exporter": "python",
   "pygments_lexer": "ipython3",
   "version": "3.8.8"
  }
 },
 "nbformat": 4,
 "nbformat_minor": 5
}
