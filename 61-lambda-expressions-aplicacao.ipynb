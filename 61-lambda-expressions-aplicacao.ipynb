{
 "cells": [
  {
   "cell_type": "code",
   "execution_count": 18,
   "id": "af9a80cb",
   "metadata": {},
   "outputs": [],
   "source": [
    "preco_tecnologia ={'notebook asus': 500,'notebook samsung':5100}"
   ]
  },
  {
   "cell_type": "code",
   "execution_count": 19,
   "id": "d514e80e",
   "metadata": {},
   "outputs": [],
   "source": [
    "#acrescentar imposto para todos os itens\n",
    "def calcular_preco(preco):\n",
    "    return preco*1.3"
   ]
  },
  {
   "cell_type": "code",
   "execution_count": 20,
   "id": "55e64970",
   "metadata": {},
   "outputs": [
    {
     "name": "stdout",
     "output_type": "stream",
     "text": [
      "[650.0, 6630.0]\n"
     ]
    }
   ],
   "source": [
    "preco_com_imposto = list(map(calcular_preco, preco_tecnologia.values()))\n",
    "print(preco_com_imposto)"
   ]
  },
  {
   "cell_type": "code",
   "execution_count": 21,
   "id": "2b6cb973",
   "metadata": {},
   "outputs": [],
   "source": [
    "#fazendo com lambda"
   ]
  },
  {
   "cell_type": "code",
   "execution_count": 22,
   "id": "29e318a6",
   "metadata": {},
   "outputs": [],
   "source": [
    "preco_com_imposto2 = list(map(lambda preco: preco * 1.3,preco_tecnologia.values()))"
   ]
  },
  {
   "cell_type": "code",
   "execution_count": 23,
   "id": "cbbef2b9",
   "metadata": {},
   "outputs": [
    {
     "name": "stdout",
     "output_type": "stream",
     "text": [
      "[650.0, 6630.0]\n"
     ]
    }
   ],
   "source": [
    "print(preco_com_imposto2)"
   ]
  },
  {
   "cell_type": "code",
   "execution_count": 24,
   "id": "e4c1cf8b",
   "metadata": {},
   "outputs": [],
   "source": [
    "#filter(função, iterable) retorna todos os itens do iterable onde a função é true"
   ]
  },
  {
   "cell_type": "code",
   "execution_count": 25,
   "id": "8c2f3fa3",
   "metadata": {},
   "outputs": [],
   "source": [
    "def maiorQ(item):\n",
    "    return item[1] > 2000\n",
    "\n",
    "produtos_acima_2000 = list(filter(maiorQ, preco_tecnologia.items()))"
   ]
  },
  {
   "cell_type": "code",
   "execution_count": 26,
   "id": "c184538b",
   "metadata": {},
   "outputs": [
    {
     "data": {
      "text/plain": [
       "[('notebook samsung', 5100)]"
      ]
     },
     "execution_count": 26,
     "metadata": {},
     "output_type": "execute_result"
    }
   ],
   "source": [
    "produtos_acima_2000"
   ]
  },
  {
   "cell_type": "code",
   "execution_count": null,
   "id": "79e1b492",
   "metadata": {},
   "outputs": [],
   "source": []
  }
 ],
 "metadata": {
  "kernelspec": {
   "display_name": "Python 3",
   "language": "python",
   "name": "python3"
  },
  "language_info": {
   "codemirror_mode": {
    "name": "ipython",
    "version": 3
   },
   "file_extension": ".py",
   "mimetype": "text/x-python",
   "name": "python",
   "nbconvert_exporter": "python",
   "pygments_lexer": "ipython3",
   "version": "3.8.8"
  }
 },
 "nbformat": 4,
 "nbformat_minor": 5
}
