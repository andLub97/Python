{
 "cells": [
  {
   "cell_type": "code",
   "execution_count": 1,
   "id": "b5cd5829",
   "metadata": {},
   "outputs": [
    {
     "name": "stdout",
     "output_type": "stream",
     "text": [
      "meu nome é andré\n"
     ]
    }
   ],
   "source": [
    "print(\"meu nome é \" + \"andré\")"
   ]
  },
  {
   "cell_type": "code",
   "execution_count": 2,
   "id": "f9d01889",
   "metadata": {},
   "outputs": [
    {
     "name": "stdout",
     "output_type": "stream",
     "text": [
      "True\n"
     ]
    }
   ],
   "source": [
    "print(\"a\" in \"abcde\")"
   ]
  },
  {
   "cell_type": "code",
   "execution_count": 3,
   "id": "33e5e972",
   "metadata": {},
   "outputs": [
    {
     "name": "stdout",
     "output_type": "stream",
     "text": [
      "True\n"
     ]
    }
   ],
   "source": [
    "print(\"abc\" in \"ababcd\")"
   ]
  },
  {
   "cell_type": "code",
   "execution_count": 4,
   "id": "86864a36",
   "metadata": {},
   "outputs": [
    {
     "name": "stdout",
     "output_type": "stream",
     "text": [
      "False\n"
     ]
    }
   ],
   "source": [
    "print(\"abc\" in \"ababd\")"
   ]
  },
  {
   "cell_type": "code",
   "execution_count": 5,
   "id": "97c1b349",
   "metadata": {},
   "outputs": [
    {
     "name": "stdout",
     "output_type": "stream",
     "text": [
      "False\n"
     ]
    }
   ],
   "source": [
    "print(\"a\" in \"A\")"
   ]
  },
  {
   "cell_type": "code",
   "execution_count": 6,
   "id": "d53f78b7",
   "metadata": {},
   "outputs": [
    {
     "name": "stdout",
     "output_type": "stream",
     "text": [
      "True\n"
     ]
    }
   ],
   "source": [
    "print(\"a\" in \"aAb\")"
   ]
  },
  {
   "cell_type": "code",
   "execution_count": null,
   "id": "571d8fe4",
   "metadata": {},
   "outputs": [],
   "source": []
  }
 ],
 "metadata": {
  "kernelspec": {
   "display_name": "Python 3",
   "language": "python",
   "name": "python3"
  },
  "language_info": {
   "codemirror_mode": {
    "name": "ipython",
    "version": 3
   },
   "file_extension": ".py",
   "mimetype": "text/x-python",
   "name": "python",
   "nbconvert_exporter": "python",
   "pygments_lexer": "ipython3",
   "version": "3.8.8"
  }
 },
 "nbformat": 4,
 "nbformat_minor": 5
}
