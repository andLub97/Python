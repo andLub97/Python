{
 "cells": [
  {
   "cell_type": "code",
   "execution_count": 1,
   "id": "73298b59",
   "metadata": {},
   "outputs": [],
   "source": [
    "#cada item da lista é uma lista"
   ]
  },
  {
   "cell_type": "code",
   "execution_count": 2,
   "id": "9006c4f9",
   "metadata": {},
   "outputs": [],
   "source": [
    "vendedores = ['André', 'João', 'Maria']\n",
    "produtos = ['ipad', 'iphone']\n",
    "vendas = [\n",
    "    [100, 200],\n",
    "    [300, 500],\n",
    "    [50, 1000],\n",
    "    [900, 10],\n",
    "]"
   ]
  },
  {
   "cell_type": "code",
   "execution_count": 3,
   "id": "b0a5d4c8",
   "metadata": {},
   "outputs": [
    {
     "name": "stdout",
     "output_type": "stream",
     "text": [
      "300\n"
     ]
    }
   ],
   "source": [
    "vendas_ipad_joao = vendas[1][0]\n",
    "print(vendas_ipad_joao)"
   ]
  },
  {
   "cell_type": "code",
   "execution_count": 5,
   "id": "84cb9f4a",
   "metadata": {},
   "outputs": [
    {
     "name": "stdout",
     "output_type": "stream",
     "text": [
      "1710\n"
     ]
    }
   ],
   "source": [
    "#total de vendas de iphone\n",
    "vendas_iphone = vendas[0][1]+ vendas[1][1]+vendas[2][1]+vendas[3][1]\n",
    "print(vendas_iphone)"
   ]
  },
  {
   "cell_type": "code",
   "execution_count": null,
   "id": "920c8e91",
   "metadata": {},
   "outputs": [],
   "source": []
  }
 ],
 "metadata": {
  "kernelspec": {
   "display_name": "Python 3",
   "language": "python",
   "name": "python3"
  },
  "language_info": {
   "codemirror_mode": {
    "name": "ipython",
    "version": 3
   },
   "file_extension": ".py",
   "mimetype": "text/x-python",
   "name": "python",
   "nbconvert_exporter": "python",
   "pygments_lexer": "ipython3",
   "version": "3.8.8"
  }
 },
 "nbformat": 4,
 "nbformat_minor": 5
}
