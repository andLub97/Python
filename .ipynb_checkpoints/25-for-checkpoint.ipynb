{
 "cells": [
  {
   "cell_type": "code",
   "execution_count": 4,
   "id": "1da49648",
   "metadata": {},
   "outputs": [
    {
     "name": "stdout",
     "output_type": "stream",
     "text": [
      "1\n",
      "2\n",
      "3\n",
      "4\n",
      "5\n",
      "6\n",
      "7\n",
      "8\n",
      "9\n",
      "10\n"
     ]
    }
   ],
   "source": [
    "for i in range(10):\n",
    "    print(i+1)"
   ]
  },
  {
   "cell_type": "code",
   "execution_count": 9,
   "id": "f50b6f38",
   "metadata": {},
   "outputs": [],
   "source": [
    "produtos = ['coca-cola', 'pepsi','dolly']\n",
    "producao = [123000, 150000, 80000]\n",
    "tamanho = len(produtos)"
   ]
  },
  {
   "cell_type": "code",
   "execution_count": 10,
   "id": "28f6a2a8",
   "metadata": {},
   "outputs": [
    {
     "name": "stdout",
     "output_type": "stream",
     "text": [
      "123000 unidades produzidas de coca-cola\n",
      "150000 unidades produzidas de pepsi\n",
      "80000 unidades produzidas de dolly\n"
     ]
    }
   ],
   "source": [
    "for i in range(tamanho):\n",
    "        print('{} unidades produzidas de {}'.format(producao[i],produtos[i]))"
   ]
  },
  {
   "cell_type": "code",
   "execution_count": null,
   "id": "c552bac7",
   "metadata": {},
   "outputs": [],
   "source": []
  }
 ],
 "metadata": {
  "kernelspec": {
   "display_name": "Python 3",
   "language": "python",
   "name": "python3"
  },
  "language_info": {
   "codemirror_mode": {
    "name": "ipython",
    "version": 3
   },
   "file_extension": ".py",
   "mimetype": "text/x-python",
   "name": "python",
   "nbconvert_exporter": "python",
   "pygments_lexer": "ipython3",
   "version": "3.8.8"
  }
 },
 "nbformat": 4,
 "nbformat_minor": 5
}
