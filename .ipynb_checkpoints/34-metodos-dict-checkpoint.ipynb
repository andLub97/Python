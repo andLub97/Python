{
 "cells": [
  {
   "cell_type": "code",
   "execution_count": 1,
   "id": "f6261b28",
   "metadata": {},
   "outputs": [
    {
     "name": "stdout",
     "output_type": "stream",
     "text": [
      "dict_items([('a', 1), ('b', 2)])\n"
     ]
    }
   ],
   "source": [
    "dicio = {'a':1,'b':2}\n",
    "it = dicio.items()\n",
    "#dicio foi transformado numa lista de tuplas\n",
    "print(it)"
   ]
  },
  {
   "cell_type": "code",
   "execution_count": 2,
   "id": "dc5f872e",
   "metadata": {},
   "outputs": [],
   "source": [
    "chaves = dicio.keys()\n",
    "valores = dicio.values()"
   ]
  },
  {
   "cell_type": "code",
   "execution_count": 3,
   "id": "28ee87ab",
   "metadata": {},
   "outputs": [
    {
     "data": {
      "text/plain": [
       "dict_keys(['a', 'b'])"
      ]
     },
     "execution_count": 3,
     "metadata": {},
     "output_type": "execute_result"
    }
   ],
   "source": [
    "chaves"
   ]
  },
  {
   "cell_type": "code",
   "execution_count": 4,
   "id": "a8ed87f5",
   "metadata": {},
   "outputs": [
    {
     "data": {
      "text/plain": [
       "dict_values([1, 2])"
      ]
     },
     "execution_count": 4,
     "metadata": {},
     "output_type": "execute_result"
    }
   ],
   "source": [
    "valores"
   ]
  },
  {
   "cell_type": "code",
   "execution_count": 5,
   "id": "7c54fce3",
   "metadata": {},
   "outputs": [],
   "source": [
    "chavesL = list(chaves)\n",
    "valoresL = list(valores)"
   ]
  },
  {
   "cell_type": "code",
   "execution_count": 6,
   "id": "c5e7f652",
   "metadata": {},
   "outputs": [
    {
     "data": {
      "text/plain": [
       "['a', 'b']"
      ]
     },
     "execution_count": 6,
     "metadata": {},
     "output_type": "execute_result"
    }
   ],
   "source": [
    "chavesL"
   ]
  },
  {
   "cell_type": "code",
   "execution_count": null,
   "id": "0ffe97c4",
   "metadata": {},
   "outputs": [],
   "source": []
  }
 ],
 "metadata": {
  "kernelspec": {
   "display_name": "Python 3",
   "language": "python",
   "name": "python3"
  },
  "language_info": {
   "codemirror_mode": {
    "name": "ipython",
    "version": 3
   },
   "file_extension": ".py",
   "mimetype": "text/x-python",
   "name": "python",
   "nbconvert_exporter": "python",
   "pygments_lexer": "ipython3",
   "version": "3.8.8"
  }
 },
 "nbformat": 4,
 "nbformat_minor": 5
}
