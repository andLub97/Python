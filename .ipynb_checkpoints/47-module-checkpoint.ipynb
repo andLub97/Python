{
 "cells": [
  {
   "cell_type": "code",
   "execution_count": 1,
   "id": "2819a85e",
   "metadata": {},
   "outputs": [],
   "source": [
    "import keyboard"
   ]
  },
  {
   "cell_type": "code",
   "execution_count": 2,
   "id": "e67143eb",
   "metadata": {},
   "outputs": [],
   "source": [
    "keyboard.press_and_release('ctrl+t')\n",
    "keyboard.write('andré lubawski')\n",
    "keyboard.press_and_release('enter')"
   ]
  },
  {
   "cell_type": "code",
   "execution_count": null,
   "id": "1aaf5f50",
   "metadata": {},
   "outputs": [],
   "source": []
  }
 ],
 "metadata": {
  "kernelspec": {
   "display_name": "Python 3",
   "language": "python",
   "name": "python3"
  },
  "language_info": {
   "codemirror_mode": {
    "name": "ipython",
    "version": 3
   },
   "file_extension": ".py",
   "mimetype": "text/x-python",
   "name": "python",
   "nbconvert_exporter": "python",
   "pygments_lexer": "ipython3",
   "version": "3.8.8"
  }
 },
 "nbformat": 4,
 "nbformat_minor": 5
}
