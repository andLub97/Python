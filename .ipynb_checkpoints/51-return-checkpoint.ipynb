{
 "cells": [
  {
   "cell_type": "code",
   "execution_count": 1,
   "id": "d87e1bc8",
   "metadata": {},
   "outputs": [],
   "source": [
    "def padronizar_texto(texto):\n",
    "    texto = texto.casefold()\n",
    "    texto = texto.replace(\"  \",\" \")\n",
    "    texto = texto.strip()\n",
    "    return texto\n",
    "\n",
    "def filtrar_lista(lista, pedaco_texto):\n",
    "    lista_filtrada = []\n",
    "    for item in lista:\n",
    "        if pedaco_texto in item:\n",
    "            lista_filtrada.append(item)\n",
    "    return lista_filtrada\n"
   ]
  },
  {
   "cell_type": "code",
   "execution_count": 2,
   "id": "cd62539f",
   "metadata": {},
   "outputs": [],
   "source": [
    "lista_textos = ['andre@gmail.com','andre@hotmail.com']\n",
    "\n",
    "lista = filtrar_lista(lista_textos, 'hotmail')"
   ]
  },
  {
   "cell_type": "code",
   "execution_count": 3,
   "id": "13b8e0f6",
   "metadata": {},
   "outputs": [
    {
     "name": "stdout",
     "output_type": "stream",
     "text": [
      "['andre@hotmail.com']\n"
     ]
    }
   ],
   "source": [
    "print(lista)"
   ]
  },
  {
   "cell_type": "code",
   "execution_count": 5,
   "id": "8802678c",
   "metadata": {},
   "outputs": [
    {
     "data": {
      "text/plain": [
       "'andré lubawski'"
      ]
     },
     "execution_count": 5,
     "metadata": {},
     "output_type": "execute_result"
    }
   ],
   "source": [
    "padronizar_texto('  André Lubawski')"
   ]
  },
  {
   "cell_type": "code",
   "execution_count": null,
   "id": "d64dac01",
   "metadata": {},
   "outputs": [],
   "source": []
  }
 ],
 "metadata": {
  "kernelspec": {
   "display_name": "Python 3",
   "language": "python",
   "name": "python3"
  },
  "language_info": {
   "codemirror_mode": {
    "name": "ipython",
    "version": 3
   },
   "file_extension": ".py",
   "mimetype": "text/x-python",
   "name": "python",
   "nbconvert_exporter": "python",
   "pygments_lexer": "ipython3",
   "version": "3.8.8"
  }
 },
 "nbformat": 4,
 "nbformat_minor": 5
}
