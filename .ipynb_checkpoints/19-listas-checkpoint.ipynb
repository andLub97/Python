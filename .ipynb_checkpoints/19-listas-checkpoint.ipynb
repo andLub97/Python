{
 "cells": [
  {
   "cell_type": "code",
   "execution_count": 1,
   "id": "2c44983c",
   "metadata": {},
   "outputs": [],
   "source": [
    "produtos = ['apple tv', 'Ipad', 'iphone']\n",
    "novosProdutos = ['iphone x', 'mac book']"
   ]
  },
  {
   "cell_type": "code",
   "execution_count": 2,
   "id": "07a3e718",
   "metadata": {},
   "outputs": [
    {
     "name": "stdout",
     "output_type": "stream",
     "text": [
      "['apple tv', 'Ipad', 'iphone', 'iphone x', 'mac book']\n"
     ]
    }
   ],
   "source": [
    "todosProdutos = produtos + novosProdutos\n",
    "print(todosProdutos)"
   ]
  },
  {
   "cell_type": "code",
   "execution_count": 3,
   "id": "0bcfb3fd",
   "metadata": {},
   "outputs": [],
   "source": [
    "produtos.extend(novosProdutos)"
   ]
  },
  {
   "cell_type": "code",
   "execution_count": 4,
   "id": "99ebd052",
   "metadata": {},
   "outputs": [
    {
     "data": {
      "text/plain": [
       "['apple tv', 'Ipad', 'iphone', 'iphone x', 'mac book']"
      ]
     },
     "execution_count": 4,
     "metadata": {},
     "output_type": "execute_result"
    }
   ],
   "source": [
    "produtos"
   ]
  },
  {
   "cell_type": "code",
   "execution_count": 7,
   "id": "ce6eb4e4",
   "metadata": {},
   "outputs": [],
   "source": [
    "produtos.sort() #ordenado de acordo com a tabela ascii"
   ]
  },
  {
   "cell_type": "code",
   "execution_count": 8,
   "id": "c67464a1",
   "metadata": {},
   "outputs": [
    {
     "name": "stdout",
     "output_type": "stream",
     "text": [
      "['Ipad', 'apple tv', 'iphone', 'iphone x', 'mac book']\n"
     ]
    }
   ],
   "source": [
    "print(produtos)"
   ]
  },
  {
   "cell_type": "code",
   "execution_count": 11,
   "id": "fb89f45f",
   "metadata": {},
   "outputs": [],
   "source": [
    "produtos.sort(reverse=True)"
   ]
  },
  {
   "cell_type": "code",
   "execution_count": 12,
   "id": "a9b57063",
   "metadata": {},
   "outputs": [
    {
     "data": {
      "text/plain": [
       "['mac book', 'iphone x', 'iphone', 'apple tv', 'Ipad']"
      ]
     },
     "execution_count": 12,
     "metadata": {},
     "output_type": "execute_result"
    }
   ],
   "source": [
    "produtos"
   ]
  },
  {
   "cell_type": "code",
   "execution_count": 13,
   "id": "f283e8fc",
   "metadata": {},
   "outputs": [
    {
     "name": "stdout",
     "output_type": "stream",
     "text": [
      "mac book,iphone x,iphone,apple tv,Ipad\n"
     ]
    }
   ],
   "source": [
    "print(','.join(produtos))"
   ]
  },
  {
   "cell_type": "code",
   "execution_count": 14,
   "id": "c750c3ac",
   "metadata": {},
   "outputs": [
    {
     "name": "stdout",
     "output_type": "stream",
     "text": [
      "mac book\n",
      "iphone x\n",
      "iphone\n",
      "apple tv\n",
      "Ipad\n"
     ]
    }
   ],
   "source": [
    "print('\\n'.join(produtos))"
   ]
  },
  {
   "cell_type": "code",
   "execution_count": 18,
   "id": "70c10108",
   "metadata": {},
   "outputs": [],
   "source": [
    "frase = 'olá, tudo bem?'"
   ]
  },
  {
   "cell_type": "code",
   "execution_count": 20,
   "id": "24d050f8",
   "metadata": {},
   "outputs": [],
   "source": [
    "lista = frase.split(', ')"
   ]
  },
  {
   "cell_type": "code",
   "execution_count": 21,
   "id": "30f008b0",
   "metadata": {},
   "outputs": [
    {
     "data": {
      "text/plain": [
       "['olá', 'tudo bem?']"
      ]
     },
     "execution_count": 21,
     "metadata": {},
     "output_type": "execute_result"
    }
   ],
   "source": [
    "lista"
   ]
  },
  {
   "cell_type": "code",
   "execution_count": null,
   "id": "824731b9",
   "metadata": {},
   "outputs": [],
   "source": []
  }
 ],
 "metadata": {
  "kernelspec": {
   "display_name": "Python 3",
   "language": "python",
   "name": "python3"
  },
  "language_info": {
   "codemirror_mode": {
    "name": "ipython",
    "version": 3
   },
   "file_extension": ".py",
   "mimetype": "text/x-python",
   "name": "python",
   "nbconvert_exporter": "python",
   "pygments_lexer": "ipython3",
   "version": "3.8.8"
  }
 },
 "nbformat": 4,
 "nbformat_minor": 5
}
