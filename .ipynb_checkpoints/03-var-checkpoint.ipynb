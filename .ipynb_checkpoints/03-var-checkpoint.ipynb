{
 "cells": [
  {
   "cell_type": "code",
   "execution_count": 1,
   "id": "10442147",
   "metadata": {},
   "outputs": [
    {
     "name": "stdout",
     "output_type": "stream",
     "text": [
      "1500\n"
     ]
    }
   ],
   "source": [
    "qtde_vendas = 1500\n",
    "\n",
    "print(qtde_vendas)"
   ]
  },
  {
   "cell_type": "code",
   "execution_count": 4,
   "id": "3e67b006",
   "metadata": {},
   "outputs": [],
   "source": [
    "fat = 150\n",
    "custo = 60"
   ]
  },
  {
   "cell_type": "code",
   "execution_count": 5,
   "id": "849ca74a",
   "metadata": {},
   "outputs": [
    {
     "name": "stdout",
     "output_type": "stream",
     "text": [
      "90\n"
     ]
    }
   ],
   "source": [
    "lucro = fat - custo\n",
    "print(lucro)"
   ]
  },
  {
   "cell_type": "code",
   "execution_count": 7,
   "id": "5e0e22b7",
   "metadata": {},
   "outputs": [
    {
     "name": "stdout",
     "output_type": "stream",
     "text": [
      "nome: andré\n"
     ]
    }
   ],
   "source": [
    "nome = input('nome: ')"
   ]
  },
  {
   "cell_type": "code",
   "execution_count": 8,
   "id": "13bf6451",
   "metadata": {},
   "outputs": [
    {
     "data": {
      "text/plain": [
       "'andré'"
      ]
     },
     "execution_count": 8,
     "metadata": {},
     "output_type": "execute_result"
    }
   ],
   "source": [
    "nome"
   ]
  },
  {
   "cell_type": "code",
   "execution_count": 9,
   "id": "b708cdef",
   "metadata": {},
   "outputs": [
    {
     "name": "stdout",
     "output_type": "stream",
     "text": [
      "custo: 500\n"
     ]
    }
   ],
   "source": [
    "custo = int(input(\"custo: \"))"
   ]
  },
  {
   "cell_type": "code",
   "execution_count": 10,
   "id": "9df44754",
   "metadata": {},
   "outputs": [
    {
     "data": {
      "text/plain": [
       "500"
      ]
     },
     "execution_count": 10,
     "metadata": {},
     "output_type": "execute_result"
    }
   ],
   "source": [
    "custo"
   ]
  },
  {
   "cell_type": "code",
   "execution_count": null,
   "id": "e50dd9ad",
   "metadata": {},
   "outputs": [],
   "source": []
  }
 ],
 "metadata": {
  "kernelspec": {
   "display_name": "Python 3",
   "language": "python",
   "name": "python3"
  },
  "language_info": {
   "codemirror_mode": {
    "name": "ipython",
    "version": 3
   },
   "file_extension": ".py",
   "mimetype": "text/x-python",
   "name": "python",
   "nbconvert_exporter": "python",
   "pygments_lexer": "ipython3",
   "version": "3.8.8"
  }
 },
 "nbformat": 4,
 "nbformat_minor": 5
}
