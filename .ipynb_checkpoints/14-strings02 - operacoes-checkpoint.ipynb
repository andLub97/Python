{
 "cells": [
  {
   "cell_type": "code",
   "execution_count": 1,
   "id": "a3e2a50a",
   "metadata": {},
   "outputs": [],
   "source": [
    "f = 1000\n",
    "c = 500\n",
    "l = f - c"
   ]
  },
  {
   "cell_type": "code",
   "execution_count": 3,
   "id": "c7d897bf",
   "metadata": {},
   "outputs": [
    {
     "name": "stdout",
     "output_type": "stream",
     "text": [
      "faturamento: 1000\n"
     ]
    }
   ],
   "source": [
    "print(\"faturamento: \" + str(f))"
   ]
  },
  {
   "cell_type": "code",
   "execution_count": 4,
   "id": "7ead4176",
   "metadata": {},
   "outputs": [
    {
     "name": "stdout",
     "output_type": "stream",
     "text": [
      "lucro: 500\n"
     ]
    }
   ],
   "source": [
    "print(\"lucro: {}\".format(l))"
   ]
  },
  {
   "cell_type": "code",
   "execution_count": 5,
   "id": "06619217",
   "metadata": {},
   "outputs": [
    {
     "name": "stdout",
     "output_type": "stream",
     "text": [
      "custo:500 faturamento:1000\n"
     ]
    }
   ],
   "source": [
    "print(\"custo:{0} faturamento:{1}\".format(c,f))"
   ]
  },
  {
   "cell_type": "code",
   "execution_count": 6,
   "id": "3813056f",
   "metadata": {},
   "outputs": [
    {
     "name": "stdout",
     "output_type": "stream",
     "text": [
      "faturamento: 1000\n"
     ]
    }
   ],
   "source": [
    "print(\"faturamento: %d\" %f)"
   ]
  },
  {
   "cell_type": "code",
   "execution_count": 8,
   "id": "ee328efc",
   "metadata": {},
   "outputs": [],
   "source": [
    "nome = \"André L\""
   ]
  },
  {
   "cell_type": "code",
   "execution_count": 10,
   "id": "7868987b",
   "metadata": {},
   "outputs": [
    {
     "data": {
      "text/plain": [
       "1"
      ]
     },
     "execution_count": 10,
     "metadata": {},
     "output_type": "execute_result"
    }
   ],
   "source": [
    "nome.count(\" \")"
   ]
  },
  {
   "cell_type": "code",
   "execution_count": 11,
   "id": "fed796ef",
   "metadata": {},
   "outputs": [
    {
     "data": {
      "text/plain": [
       "8"
      ]
     },
     "execution_count": 11,
     "metadata": {},
     "output_type": "execute_result"
    }
   ],
   "source": [
    "nome.count(\"\")"
   ]
  },
  {
   "cell_type": "code",
   "execution_count": 12,
   "id": "661b6f4a",
   "metadata": {},
   "outputs": [
    {
     "data": {
      "text/plain": [
       "1"
      ]
     },
     "execution_count": 12,
     "metadata": {},
     "output_type": "execute_result"
    }
   ],
   "source": [
    "nome.count('é')"
   ]
  },
  {
   "cell_type": "code",
   "execution_count": 13,
   "id": "5317f88b",
   "metadata": {},
   "outputs": [
    {
     "data": {
      "text/plain": [
       "-1"
      ]
     },
     "execution_count": 13,
     "metadata": {},
     "output_type": "execute_result"
    }
   ],
   "source": [
    "nome.find(\"a\")"
   ]
  },
  {
   "cell_type": "code",
   "execution_count": 14,
   "id": "43d45854",
   "metadata": {},
   "outputs": [
    {
     "data": {
      "text/plain": [
       "0"
      ]
     },
     "execution_count": 14,
     "metadata": {},
     "output_type": "execute_result"
    }
   ],
   "source": [
    "nome.find(\"A\")"
   ]
  },
  {
   "cell_type": "code",
   "execution_count": 16,
   "id": "80e6d34a",
   "metadata": {},
   "outputs": [
    {
     "data": {
      "text/plain": [
       "6"
      ]
     },
     "execution_count": 16,
     "metadata": {},
     "output_type": "execute_result"
    }
   ],
   "source": [
    "nome.find(\"L\")"
   ]
  },
  {
   "cell_type": "code",
   "execution_count": 17,
   "id": "11032895",
   "metadata": {},
   "outputs": [
    {
     "data": {
      "text/plain": [
       "'Hndré L'"
      ]
     },
     "execution_count": 17,
     "metadata": {},
     "output_type": "execute_result"
    }
   ],
   "source": [
    "nome.replace('A','H')"
   ]
  },
  {
   "cell_type": "code",
   "execution_count": 21,
   "id": "e76baa38",
   "metadata": {},
   "outputs": [
    {
     "data": {
      "text/plain": [
       "'andré'"
      ]
     },
     "execution_count": 21,
     "metadata": {},
     "output_type": "execute_result"
    }
   ],
   "source": [
    "nome2 = ' andré'\n",
    "nome2.strip()"
   ]
  },
  {
   "cell_type": "code",
   "execution_count": 22,
   "id": "3b042446",
   "metadata": {},
   "outputs": [
    {
     "data": {
      "text/plain": [
       "' André'"
      ]
     },
     "execution_count": 22,
     "metadata": {},
     "output_type": "execute_result"
    }
   ],
   "source": [
    "nome2.title()"
   ]
  },
  {
   "cell_type": "code",
   "execution_count": 23,
   "id": "38397320",
   "metadata": {},
   "outputs": [
    {
     "data": {
      "text/plain": [
       "' ANDRÉ'"
      ]
     },
     "execution_count": 23,
     "metadata": {},
     "output_type": "execute_result"
    }
   ],
   "source": [
    "nome2.upper()"
   ]
  },
  {
   "cell_type": "code",
   "execution_count": null,
   "id": "ff4f707a",
   "metadata": {},
   "outputs": [],
   "source": []
  }
 ],
 "metadata": {
  "kernelspec": {
   "display_name": "Python 3",
   "language": "python",
   "name": "python3"
  },
  "language_info": {
   "codemirror_mode": {
    "name": "ipython",
    "version": 3
   },
   "file_extension": ".py",
   "mimetype": "text/x-python",
   "name": "python",
   "nbconvert_exporter": "python",
   "pygments_lexer": "ipython3",
   "version": "3.8.8"
  }
 },
 "nbformat": 4,
 "nbformat_minor": 5
}
