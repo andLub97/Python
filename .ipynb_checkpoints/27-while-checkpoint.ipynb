{
 "cells": [
  {
   "cell_type": "code",
   "execution_count": 2,
   "id": "09d193ab",
   "metadata": {},
   "outputs": [
    {
     "name": "stdout",
     "output_type": "stream",
     "text": [
      "produto(enter para finalizar):cenoura\n",
      "produto(enter para finalizar):laranja\n",
      "produto(enter para finalizar):frango\n",
      "produto(enter para finalizar):\n",
      "produtos registrados: ['cenoura', 'laranja', 'frango']\n"
     ]
    }
   ],
   "source": [
    "venda = input('produto(enter para finalizar):')\n",
    "vendas=[]\n",
    "\n",
    "while venda != '':\n",
    "    vendas.append(venda)\n",
    "    venda = input('produto(enter para finalizar):')\n",
    "\n",
    "print('produtos registrados: {}'.format(vendas))"
   ]
  },
  {
   "cell_type": "code",
   "execution_count": null,
   "id": "56656fc8",
   "metadata": {},
   "outputs": [],
   "source": []
  }
 ],
 "metadata": {
  "kernelspec": {
   "display_name": "Python 3",
   "language": "python",
   "name": "python3"
  },
  "language_info": {
   "codemirror_mode": {
    "name": "ipython",
    "version": 3
   },
   "file_extension": ".py",
   "mimetype": "text/x-python",
   "name": "python",
   "nbconvert_exporter": "python",
   "pygments_lexer": "ipython3",
   "version": "3.8.8"
  }
 },
 "nbformat": 4,
 "nbformat_minor": 5
}
