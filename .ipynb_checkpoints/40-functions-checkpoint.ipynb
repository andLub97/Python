{
 "cells": [
  {
   "cell_type": "code",
   "execution_count": 3,
   "id": "b0ab217f",
   "metadata": {},
   "outputs": [],
   "source": [
    "def cadastrar_produto():\n",
    "    produto = input('Nome do produto: ')\n",
    "    produto = produto.casefold()\n",
    "    print('Produto {} cadastrado com sucesso!'.format(produto))"
   ]
  },
  {
   "cell_type": "code",
   "execution_count": 4,
   "id": "f9682ecd",
   "metadata": {},
   "outputs": [
    {
     "name": "stdout",
     "output_type": "stream",
     "text": [
      "Nome do produto: larAnjA\n",
      "Produto laranja cadastrado com sucesso!\n"
     ]
    }
   ],
   "source": [
    "cadastrar_produto()"
   ]
  },
  {
   "cell_type": "code",
   "execution_count": 5,
   "id": "23e0bc42",
   "metadata": {},
   "outputs": [],
   "source": [
    "#return"
   ]
  },
  {
   "cell_type": "code",
   "execution_count": 6,
   "id": "fc8f1c35",
   "metadata": {},
   "outputs": [],
   "source": [
    "def cadastrar_produto():\n",
    "    produto = input('Nome do produto: ')\n",
    "    produto = produto.casefold()\n",
    "    return produto\n"
   ]
  },
  {
   "cell_type": "code",
   "execution_count": 7,
   "id": "8fcec505",
   "metadata": {},
   "outputs": [
    {
     "name": "stdout",
     "output_type": "stream",
     "text": [
      "Nome do produto: laraNJa\n"
     ]
    },
    {
     "data": {
      "text/plain": [
       "'laranja'"
      ]
     },
     "execution_count": 7,
     "metadata": {},
     "output_type": "execute_result"
    }
   ],
   "source": [
    "cadastrar_produto()"
   ]
  },
  {
   "cell_type": "code",
   "execution_count": 8,
   "id": "a8e37a98",
   "metadata": {},
   "outputs": [],
   "source": [
    "def soma(n1,n2):\n",
    "    return n1 + n2"
   ]
  },
  {
   "cell_type": "code",
   "execution_count": 9,
   "id": "1c577869",
   "metadata": {},
   "outputs": [
    {
     "data": {
      "text/plain": [
       "0"
      ]
     },
     "execution_count": 9,
     "metadata": {},
     "output_type": "execute_result"
    }
   ],
   "source": [
    "soma(-9,9)"
   ]
  },
  {
   "cell_type": "code",
   "execution_count": null,
   "id": "e0d608e2",
   "metadata": {},
   "outputs": [],
   "source": []
  }
 ],
 "metadata": {
  "kernelspec": {
   "display_name": "Python 3",
   "language": "python",
   "name": "python3"
  },
  "language_info": {
   "codemirror_mode": {
    "name": "ipython",
    "version": 3
   },
   "file_extension": ".py",
   "mimetype": "text/x-python",
   "name": "python",
   "nbconvert_exporter": "python",
   "pygments_lexer": "ipython3",
   "version": "3.8.8"
  }
 },
 "nbformat": 4,
 "nbformat_minor": 5
}
