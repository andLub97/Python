{
 "cells": [
  {
   "cell_type": "code",
   "execution_count": 1,
   "id": "6739e030",
   "metadata": {},
   "outputs": [],
   "source": [
    "# a própria estrutura fecha o arquivo no final"
   ]
  },
  {
   "cell_type": "code",
   "execution_count": 2,
   "id": "d4c68626",
   "metadata": {},
   "outputs": [
    {
     "name": "stdout",
     "output_type": "stream",
     "text": [
      "fim da execução\n"
     ]
    }
   ],
   "source": [
    "with open('Resumo.txt','w') as arquivo_novo:\n",
    "    arquivo_novo.write('Oi, meu nome é André')\n",
    "    arquivo_novo.write('outra coisa')\n",
    "\n",
    "    print('fim da execução')"
   ]
  },
  {
   "cell_type": "code",
   "execution_count": 15,
   "id": "d33a8587",
   "metadata": {},
   "outputs": [
    {
     "name": "stdout",
     "output_type": "stream",
     "text": [
      "Quantide Anuncio: 274\n",
      "Quantide Orgânico: 226\n",
      "Quantide YouTube: 155\n",
      "Quantide Instagram: 24\n",
      "Quantide Site: 73\n"
     ]
    }
   ],
   "source": [
    "arquivo = open('Alunos.txt','r')\n",
    "\n",
    "linhas = arquivo.readlines()\n",
    "del linhas[:4]\n",
    "#print(linhas)\n",
    "#criando os indicadores\n",
    "qtde_anuncio = 0\n",
    "qtde_org = 0\n",
    "qtde_yt_org = 0\n",
    "qtde_igfb_org = 0\n",
    "qtde_site_org = 0\n",
    "\n",
    "for linha in linhas:\n",
    "    email, origem = linha.split(',')\n",
    "    #print(email)\n",
    "    #print(origem)\n",
    "    if '_org' in origem:\n",
    "        qtde_org += 1\n",
    "        if 'hashtag_yt_org' in origem:\n",
    "            qtde_yt_org +=1\n",
    "        if 'hashtag_site_org' in origem:\n",
    "            qtde_site_org += 1\n",
    "        if 'hashtag_ig_org' in origem or 'hashtag_igfb_org' in origem:\n",
    "            qtde_igfb_org += 1\n",
    "    else:\n",
    "        qtde_anuncio += 1\n",
    "    \n",
    "\n",
    "arquivo.close()\n",
    "\n",
    "print('Quantide Anuncio: {}'.format(qtde_anuncio))\n",
    "print('Quantide Orgânico: {}'.format(qtde_org))\n",
    "print('Quantide YouTube: {}'.format(qtde_yt_org))\n",
    "print('Quantide Instagram: {}'.format(qtde_igfb_org))\n",
    "print('Quantide Site: {}'.format(qtde_site_org))\n"
   ]
  },
  {
   "cell_type": "code",
   "execution_count": 17,
   "id": "6e72df76",
   "metadata": {},
   "outputs": [],
   "source": [
    "with open('indicadores.txt','w') as indicadores:\n",
    "    indicadores.write('Quantide Anuncio: {}\\n'.format(qtde_anuncio))\n",
    "    indicadores.write('Quantide Orgânico: {}\\n'.format(qtde_org))\n",
    "    indicadores.write('Quantide YouTube: {}\\n'.format(qtde_yt_org))\n",
    "    indicadores.write('Quantide Instagram: {}\\n'.format(qtde_igfb_org))\n",
    "    indicadores.write('Quantide Site: {}'.format(qtde_site_org))"
   ]
  },
  {
   "cell_type": "code",
   "execution_count": null,
   "id": "ed5bc9e0",
   "metadata": {},
   "outputs": [],
   "source": []
  }
 ],
 "metadata": {
  "kernelspec": {
   "display_name": "Python 3",
   "language": "python",
   "name": "python3"
  },
  "language_info": {
   "codemirror_mode": {
    "name": "ipython",
    "version": 3
   },
   "file_extension": ".py",
   "mimetype": "text/x-python",
   "name": "python",
   "nbconvert_exporter": "python",
   "pygments_lexer": "ipython3",
   "version": "3.8.8"
  }
 },
 "nbformat": 4,
 "nbformat_minor": 5
}
