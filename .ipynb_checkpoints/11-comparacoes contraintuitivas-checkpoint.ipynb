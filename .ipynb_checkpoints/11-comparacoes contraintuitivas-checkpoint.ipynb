{
 "cells": [
  {
   "cell_type": "code",
   "execution_count": 3,
   "id": "c111f69b",
   "metadata": {},
   "outputs": [
    {
     "name": "stdout",
     "output_type": "stream",
     "text": [
      "Qual foi o faturamento? \n",
      "entrada incorreta\n"
     ]
    }
   ],
   "source": [
    "#ex: verificação de preenchimento\n",
    "faturamento = input('Qual foi o faturamento? ')\n",
    "\n",
    "if faturamento:\n",
    "    print(\"faturamento: {}\".format(faturamento))\n",
    "else:\n",
    "    print(\"entrada incorreta\")"
   ]
  },
  {
   "cell_type": "code",
   "execution_count": null,
   "id": "2cb5888c",
   "metadata": {},
   "outputs": [],
   "source": []
  }
 ],
 "metadata": {
  "kernelspec": {
   "display_name": "Python 3",
   "language": "python",
   "name": "python3"
  },
  "language_info": {
   "codemirror_mode": {
    "name": "ipython",
    "version": 3
   },
   "file_extension": ".py",
   "mimetype": "text/x-python",
   "name": "python",
   "nbconvert_exporter": "python",
   "pygments_lexer": "ipython3",
   "version": "3.8.8"
  }
 },
 "nbformat": 4,
 "nbformat_minor": 5
}
