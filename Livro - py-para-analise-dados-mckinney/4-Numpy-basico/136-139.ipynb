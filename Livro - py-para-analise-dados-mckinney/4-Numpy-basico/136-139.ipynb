{
 "cells": [
  {
   "cell_type": "code",
   "execution_count": 5,
   "id": "f1584ac6",
   "metadata": {},
   "outputs": [],
   "source": [
    "import numpy as np\n",
    "\n",
    "nomes  = np.array(['Bob','Joe','Bob','Will'])\n",
    "\n",
    "data = np.random.randn(4, 4)"
   ]
  },
  {
   "cell_type": "code",
   "execution_count": 6,
   "id": "e19ca5a6",
   "metadata": {},
   "outputs": [
    {
     "data": {
      "text/plain": [
       "array([[-0.99058023,  0.6716134 ,  0.55421391, -0.37532876],\n",
       "       [ 0.33867267, -2.31137157,  1.55731837,  0.85773603],\n",
       "       [ 0.77407555, -1.77658712, -0.35562301, -0.80297662],\n",
       "       [ 0.27881849, -0.64348303,  0.30261817,  0.87850708]])"
      ]
     },
     "execution_count": 6,
     "metadata": {},
     "output_type": "execute_result"
    }
   ],
   "source": [
    "data"
   ]
  },
  {
   "cell_type": "code",
   "execution_count": 7,
   "id": "c76f5c01",
   "metadata": {},
   "outputs": [
    {
     "data": {
      "text/plain": [
       "array([ True, False,  True, False])"
      ]
     },
     "execution_count": 7,
     "metadata": {},
     "output_type": "execute_result"
    }
   ],
   "source": [
    "nomes == 'Bob'"
   ]
  },
  {
   "cell_type": "code",
   "execution_count": 8,
   "id": "598e6d39",
   "metadata": {},
   "outputs": [
    {
     "data": {
      "text/plain": [
       "array([[-0.99058023,  0.6716134 ,  0.55421391, -0.37532876],\n",
       "       [ 0.77407555, -1.77658712, -0.35562301, -0.80297662]])"
      ]
     },
     "execution_count": 8,
     "metadata": {},
     "output_type": "execute_result"
    }
   ],
   "source": [
    "data[nomes == 'Bob']"
   ]
  },
  {
   "cell_type": "code",
   "execution_count": 9,
   "id": "7b1326dc",
   "metadata": {},
   "outputs": [
    {
     "data": {
      "text/plain": [
       "array([[ 0.55421391, -0.37532876],\n",
       "       [-0.35562301, -0.80297662]])"
      ]
     },
     "execution_count": 9,
     "metadata": {},
     "output_type": "execute_result"
    }
   ],
   "source": [
    "data[nomes == 'Bob',2:]"
   ]
  },
  {
   "cell_type": "code",
   "execution_count": 10,
   "id": "6a31e3da",
   "metadata": {},
   "outputs": [],
   "source": [
    "data[data<0] = 0"
   ]
  },
  {
   "cell_type": "code",
   "execution_count": 11,
   "id": "2f6fe455",
   "metadata": {},
   "outputs": [
    {
     "data": {
      "text/plain": [
       "array([[0.        , 0.6716134 , 0.55421391, 0.        ],\n",
       "       [0.33867267, 0.        , 1.55731837, 0.85773603],\n",
       "       [0.77407555, 0.        , 0.        , 0.        ],\n",
       "       [0.27881849, 0.        , 0.30261817, 0.87850708]])"
      ]
     },
     "execution_count": 11,
     "metadata": {},
     "output_type": "execute_result"
    }
   ],
   "source": [
    "data"
   ]
  },
  {
   "cell_type": "code",
   "execution_count": 12,
   "id": "f3ee9b33",
   "metadata": {},
   "outputs": [],
   "source": [
    "data[nomes != 'Joe'] = 8"
   ]
  },
  {
   "cell_type": "code",
   "execution_count": 13,
   "id": "d96d59bb",
   "metadata": {},
   "outputs": [
    {
     "data": {
      "text/plain": [
       "array([[8.        , 8.        , 8.        , 8.        ],\n",
       "       [0.33867267, 0.        , 1.55731837, 0.85773603],\n",
       "       [8.        , 8.        , 8.        , 8.        ],\n",
       "       [8.        , 8.        , 8.        , 8.        ]])"
      ]
     },
     "execution_count": 13,
     "metadata": {},
     "output_type": "execute_result"
    }
   ],
   "source": [
    "data"
   ]
  },
  {
   "cell_type": "code",
   "execution_count": null,
   "id": "569f1694",
   "metadata": {},
   "outputs": [],
   "source": []
  }
 ],
 "metadata": {
  "kernelspec": {
   "display_name": "Python 3",
   "language": "python",
   "name": "python3"
  },
  "language_info": {
   "codemirror_mode": {
    "name": "ipython",
    "version": 3
   },
   "file_extension": ".py",
   "mimetype": "text/x-python",
   "name": "python",
   "nbconvert_exporter": "python",
   "pygments_lexer": "ipython3",
   "version": "3.8.8"
  }
 },
 "nbformat": 4,
 "nbformat_minor": 5
}
