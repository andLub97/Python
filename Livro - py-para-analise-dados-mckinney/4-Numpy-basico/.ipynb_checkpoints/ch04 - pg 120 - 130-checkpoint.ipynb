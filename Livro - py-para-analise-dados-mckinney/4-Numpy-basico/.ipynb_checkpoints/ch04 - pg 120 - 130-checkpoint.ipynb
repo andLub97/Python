{
 "cells": [
  {
   "cell_type": "markdown",
   "id": "788c6c48",
   "metadata": {},
   "source": [
    "<h1>Numerical Python</h1>\n",
    "<ul>\n",
    "<li>foi projetado para ser eficaz em arrays de dados grandes</li>\n",
    "<li>arrays numpy utilizam menos memória que as sequências embutidas em python</li>\n",
    "<li>operações do numpy realizam processamentos complexos em arrays inteiros sem a necessidade de laços for</li>\n",
    "</ul>"
   ]
  },
  {
   "cell_type": "code",
   "execution_count": 3,
   "id": "11800349",
   "metadata": {},
   "outputs": [],
   "source": [
    "import numpy as np\n",
    "\n",
    "my_arr = np.arange(1000000)\n",
    "my_list = list(range(1000000))"
   ]
  },
  {
   "cell_type": "code",
   "execution_count": 7,
   "id": "74fb9bfb",
   "metadata": {},
   "outputs": [
    {
     "name": "stdout",
     "output_type": "stream",
     "text": [
      "Wall time: 27.1 ms\n"
     ]
    }
   ],
   "source": [
    "%time for _ in range(10): my_arr2 = my_arr * 2"
   ]
  },
  {
   "cell_type": "code",
   "execution_count": 8,
   "id": "24436525",
   "metadata": {},
   "outputs": [
    {
     "name": "stdout",
     "output_type": "stream",
     "text": [
      "Wall time: 717 ms\n"
     ]
    }
   ],
   "source": [
    "%time for _ in range(10): my_list2 = [x * 2 for x in my_list]"
   ]
  },
  {
   "cell_type": "code",
   "execution_count": 9,
   "id": "83d46778",
   "metadata": {},
   "outputs": [],
   "source": [
    "#algoritmos baseados em numpy geralmente ssão de 10 a 100 vezes mais rápidos (ou mais) do que suas contrapartidas em Python puro, além de utilizarem significativamente menos memória"
   ]
  },
  {
   "cell_type": "markdown",
   "id": "b9c1f68c",
   "metadata": {},
   "source": [
    "<h4>objeto array n-dimensional</h4>"
   ]
  },
  {
   "cell_type": "code",
   "execution_count": 10,
   "id": "1e8824af",
   "metadata": {},
   "outputs": [],
   "source": [
    "#pequeno array de dados aleatórios é gerado\n",
    "data = np.random.randn(2,3)"
   ]
  },
  {
   "cell_type": "code",
   "execution_count": 11,
   "id": "57a44372",
   "metadata": {},
   "outputs": [
    {
     "data": {
      "text/plain": [
       "array([[-1.09646785, -0.82978395, -0.71598957],\n",
       "       [ 2.09772663, -1.97361696, -0.27481484]])"
      ]
     },
     "execution_count": 11,
     "metadata": {},
     "output_type": "execute_result"
    }
   ],
   "source": [
    "data"
   ]
  },
  {
   "cell_type": "code",
   "execution_count": 12,
   "id": "e1fa0abe",
   "metadata": {},
   "outputs": [
    {
     "data": {
      "text/plain": [
       "array([[-1.09646785, -0.82978395, -0.71598957],\n",
       "       [ 2.09772663, -1.97361696, -0.27481484]])"
      ]
     },
     "execution_count": 12,
     "metadata": {},
     "output_type": "execute_result"
    }
   ],
   "source": [
    "data"
   ]
  },
  {
   "cell_type": "code",
   "execution_count": 13,
   "id": "d52d56d4",
   "metadata": {},
   "outputs": [
    {
     "data": {
      "text/plain": [
       "array([[-2.1929357 , -1.6595679 , -1.43197913],\n",
       "       [ 4.19545327, -3.94723392, -0.54962969]])"
      ]
     },
     "execution_count": 13,
     "metadata": {},
     "output_type": "execute_result"
    }
   ],
   "source": [
    "data*2"
   ]
  },
  {
   "cell_type": "code",
   "execution_count": 14,
   "id": "479629e3",
   "metadata": {},
   "outputs": [
    {
     "data": {
      "text/plain": [
       "array([[-2.1929357 , -1.6595679 , -1.43197913],\n",
       "       [ 4.19545327, -3.94723392, -0.54962969]])"
      ]
     },
     "execution_count": 14,
     "metadata": {},
     "output_type": "execute_result"
    }
   ],
   "source": [
    "data + data"
   ]
  },
  {
   "cell_type": "code",
   "execution_count": 15,
   "id": "07540c73",
   "metadata": {},
   "outputs": [],
   "source": [
    "#os dados no ndarray devem ser homogêneos!"
   ]
  },
  {
   "cell_type": "code",
   "execution_count": 16,
   "id": "2626a832",
   "metadata": {},
   "outputs": [],
   "source": [
    "#todo array tem um shape, uma tupla que indica o tamanho de cada dimensão\n",
    "#há também um dtype, um objeto que descreve o tipo de dados do array"
   ]
  },
  {
   "cell_type": "code",
   "execution_count": 17,
   "id": "5d1696b1",
   "metadata": {},
   "outputs": [
    {
     "data": {
      "text/plain": [
       "(2, 3)"
      ]
     },
     "execution_count": 17,
     "metadata": {},
     "output_type": "execute_result"
    }
   ],
   "source": [
    "data.shape"
   ]
  },
  {
   "cell_type": "code",
   "execution_count": 19,
   "id": "6820647e",
   "metadata": {},
   "outputs": [
    {
     "data": {
      "text/plain": [
       "dtype('float64')"
      ]
     },
     "execution_count": 19,
     "metadata": {},
     "output_type": "execute_result"
    }
   ],
   "source": [
    "data.dtype"
   ]
  },
  {
   "cell_type": "code",
   "execution_count": 20,
   "id": "1c95672d",
   "metadata": {},
   "outputs": [],
   "source": [
    "#CRIANDO ARRAYS"
   ]
  },
  {
   "cell_type": "code",
   "execution_count": 21,
   "id": "266065fd",
   "metadata": {},
   "outputs": [],
   "source": [
    "data1 = [6,7.5,8,0,1]\n",
    "arr1 = np.array(data1)\n"
   ]
  },
  {
   "cell_type": "code",
   "execution_count": 22,
   "id": "aa5b3af0",
   "metadata": {},
   "outputs": [
    {
     "data": {
      "text/plain": [
       "array([6. , 7.5, 8. , 0. , 1. ])"
      ]
     },
     "execution_count": 22,
     "metadata": {},
     "output_type": "execute_result"
    }
   ],
   "source": [
    "arr1"
   ]
  },
  {
   "cell_type": "code",
   "execution_count": 23,
   "id": "ec4dcfab",
   "metadata": {},
   "outputs": [],
   "source": [
    "data2 = [[1,2,3,4],[5,6,7,8]]\n",
    "arr2 = np.array(data2)"
   ]
  },
  {
   "cell_type": "code",
   "execution_count": 24,
   "id": "b2bf72c7",
   "metadata": {},
   "outputs": [
    {
     "data": {
      "text/plain": [
       "array([[1, 2, 3, 4],\n",
       "       [5, 6, 7, 8]])"
      ]
     },
     "execution_count": 24,
     "metadata": {},
     "output_type": "execute_result"
    }
   ],
   "source": [
    "arr2"
   ]
  },
  {
   "cell_type": "code",
   "execution_count": 25,
   "id": "0183d61a",
   "metadata": {},
   "outputs": [
    {
     "data": {
      "text/plain": [
       "2"
      ]
     },
     "execution_count": 25,
     "metadata": {},
     "output_type": "execute_result"
    }
   ],
   "source": [
    "arr2.ndim"
   ]
  },
  {
   "cell_type": "code",
   "execution_count": 26,
   "id": "2527bca6",
   "metadata": {},
   "outputs": [],
   "source": [
    "#arr2 tem duas dimensões"
   ]
  },
  {
   "cell_type": "code",
   "execution_count": 27,
   "id": "b5aad609",
   "metadata": {},
   "outputs": [
    {
     "data": {
      "text/plain": [
       "(2, 4)"
      ]
     },
     "execution_count": 27,
     "metadata": {},
     "output_type": "execute_result"
    }
   ],
   "source": [
    "arr2.shape"
   ]
  },
  {
   "cell_type": "code",
   "execution_count": 28,
   "id": "7bf3e54e",
   "metadata": {},
   "outputs": [
    {
     "data": {
      "text/plain": [
       "dtype('int32')"
      ]
     },
     "execution_count": 28,
     "metadata": {},
     "output_type": "execute_result"
    }
   ],
   "source": [
    "arr2.dtype"
   ]
  },
  {
   "cell_type": "code",
   "execution_count": 29,
   "id": "c8b091f4",
   "metadata": {},
   "outputs": [
    {
     "data": {
      "text/plain": [
       "array([0., 0., 0., 0., 0., 0., 0., 0., 0., 0.])"
      ]
     },
     "execution_count": 29,
     "metadata": {},
     "output_type": "execute_result"
    }
   ],
   "source": [
    "a = np.zeros(10)\n",
    "a"
   ]
  },
  {
   "cell_type": "code",
   "execution_count": 30,
   "id": "238ae895",
   "metadata": {},
   "outputs": [],
   "source": [
    "a = np.zeros((3,6))"
   ]
  },
  {
   "cell_type": "code",
   "execution_count": 31,
   "id": "f119c90f",
   "metadata": {},
   "outputs": [
    {
     "data": {
      "text/plain": [
       "array([[0., 0., 0., 0., 0., 0.],\n",
       "       [0., 0., 0., 0., 0., 0.],\n",
       "       [0., 0., 0., 0., 0., 0.]])"
      ]
     },
     "execution_count": 31,
     "metadata": {},
     "output_type": "execute_result"
    }
   ],
   "source": [
    "a"
   ]
  },
  {
   "cell_type": "code",
   "execution_count": 33,
   "id": "df007339",
   "metadata": {},
   "outputs": [
    {
     "data": {
      "text/plain": [
       "array([[[8.33759576e-312, 3.16202013e-322],\n",
       "        [0.00000000e+000, 0.00000000e+000],\n",
       "        [7.56587583e-307, 3.38299837e-061]],\n",
       "\n",
       "       [[4.91414622e-062, 5.10270408e-066],\n",
       "        [1.31323495e-047, 1.18921972e-047],\n",
       "        [2.36081727e+184, 7.93161572e-067]]])"
      ]
     },
     "execution_count": 33,
     "metadata": {},
     "output_type": "execute_result"
    }
   ],
   "source": [
    "b = np.empty((2,3,2))\n",
    "b"
   ]
  },
  {
   "cell_type": "code",
   "execution_count": 36,
   "id": "fb7f9353",
   "metadata": {},
   "outputs": [
    {
     "data": {
      "text/plain": [
       "array([0, 1, 2, 3, 4, 5, 6, 7, 8, 9])"
      ]
     },
     "execution_count": 36,
     "metadata": {},
     "output_type": "execute_result"
    }
   ],
   "source": [
    "c = np.arange(10)\n",
    "c"
   ]
  },
  {
   "cell_type": "code",
   "execution_count": 37,
   "id": "a8a49df4",
   "metadata": {},
   "outputs": [],
   "source": [
    "#dtype"
   ]
  },
  {
   "cell_type": "code",
   "execution_count": 39,
   "id": "c44fb139",
   "metadata": {},
   "outputs": [
    {
     "data": {
      "text/plain": [
       "array([ 3, -1,  4])"
      ]
     },
     "execution_count": 39,
     "metadata": {},
     "output_type": "execute_result"
    }
   ],
   "source": [
    "arr = np.array([3.4, -1.2,4.9])\n",
    "arr2 = arr.astype(np.int32)\n",
    "arr2"
   ]
  },
  {
   "cell_type": "code",
   "execution_count": 40,
   "id": "1a4ce785",
   "metadata": {},
   "outputs": [],
   "source": [
    "numeric_strings = np.array(['25','3.4'], dtype=np.string_)"
   ]
  },
  {
   "cell_type": "code",
   "execution_count": 41,
   "id": "d06236a2",
   "metadata": {},
   "outputs": [
    {
     "data": {
      "text/plain": [
       "array([25. ,  3.4])"
      ]
     },
     "execution_count": 41,
     "metadata": {},
     "output_type": "execute_result"
    }
   ],
   "source": [
    "numeric_strings.astype(float)"
   ]
  },
  {
   "cell_type": "code",
   "execution_count": 42,
   "id": "7d0b8958",
   "metadata": {},
   "outputs": [],
   "source": [
    "#chamar astype sempre cria um novo array(uma cópia dos dados), mesmo que o novo dtype seja igual ao dtype antigo"
   ]
  },
  {
   "cell_type": "code",
   "execution_count": 43,
   "id": "cd976369",
   "metadata": {},
   "outputs": [],
   "source": [
    "novo_array = np.array([[1,2,3],[4,5,6]])"
   ]
  },
  {
   "cell_type": "code",
   "execution_count": 44,
   "id": "93625b11",
   "metadata": {},
   "outputs": [
    {
     "data": {
      "text/plain": [
       "array([[ 1,  4,  9],\n",
       "       [16, 25, 36]])"
      ]
     },
     "execution_count": 44,
     "metadata": {},
     "output_type": "execute_result"
    }
   ],
   "source": [
    "novo_array*novo_array"
   ]
  },
  {
   "cell_type": "code",
   "execution_count": 45,
   "id": "80441b7c",
   "metadata": {},
   "outputs": [
    {
     "data": {
      "text/plain": [
       "array([[0, 0, 0],\n",
       "       [0, 0, 0]])"
      ]
     },
     "execution_count": 45,
     "metadata": {},
     "output_type": "execute_result"
    }
   ],
   "source": [
    "novo_array-novo_array"
   ]
  },
  {
   "cell_type": "code",
   "execution_count": 46,
   "id": "5b7c11a5",
   "metadata": {},
   "outputs": [
    {
     "data": {
      "text/plain": [
       "array([[1.        , 0.5       , 0.33333333],\n",
       "       [0.25      , 0.2       , 0.16666667]])"
      ]
     },
     "execution_count": 46,
     "metadata": {},
     "output_type": "execute_result"
    }
   ],
   "source": [
    "1/novo_array"
   ]
  },
  {
   "cell_type": "code",
   "execution_count": 49,
   "id": "2a05b629",
   "metadata": {},
   "outputs": [],
   "source": [
    "outro_array = np.array([[1,2,0],[1.4,5,3]])"
   ]
  },
  {
   "cell_type": "code",
   "execution_count": 50,
   "id": "984fe85d",
   "metadata": {},
   "outputs": [
    {
     "data": {
      "text/plain": [
       "array([[1, 2, 3],\n",
       "       [4, 5, 6]])"
      ]
     },
     "execution_count": 50,
     "metadata": {},
     "output_type": "execute_result"
    }
   ],
   "source": [
    "novo_array"
   ]
  },
  {
   "cell_type": "code",
   "execution_count": 51,
   "id": "5b536fbb",
   "metadata": {},
   "outputs": [
    {
     "data": {
      "text/plain": [
       "array([[ True,  True, False],\n",
       "       [False,  True, False]])"
      ]
     },
     "execution_count": 51,
     "metadata": {},
     "output_type": "execute_result"
    }
   ],
   "source": [
    "novo_array == outro_array"
   ]
  },
  {
   "cell_type": "code",
   "execution_count": null,
   "id": "a897104e",
   "metadata": {},
   "outputs": [],
   "source": []
  }
 ],
 "metadata": {
  "kernelspec": {
   "display_name": "Python 3",
   "language": "python",
   "name": "python3"
  },
  "language_info": {
   "codemirror_mode": {
    "name": "ipython",
    "version": 3
   },
   "file_extension": ".py",
   "mimetype": "text/x-python",
   "name": "python",
   "nbconvert_exporter": "python",
   "pygments_lexer": "ipython3",
   "version": "3.8.8"
  }
 },
 "nbformat": 4,
 "nbformat_minor": 5
}
