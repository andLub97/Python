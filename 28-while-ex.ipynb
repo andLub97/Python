{
 "cells": [
  {
   "cell_type": "code",
   "execution_count": 4,
   "id": "a69e2ffc",
   "metadata": {},
   "outputs": [
    {
     "name": "stdout",
     "output_type": "stream",
     "text": [
      "produto: laranja\n",
      "quantidade: 5\n",
      "produto: maçã\n",
      "quantidade: 12\n",
      "produto: \n",
      "[['laranja', 5], ['maçã', 12]]\n"
     ]
    }
   ],
   "source": [
    "vendas=[]\n",
    "\n",
    "while True:\n",
    "    produto = input('produto: ')\n",
    "    if not produto:\n",
    "        break\n",
    "    qtde = int(input('quantidade: '))\n",
    "    vendas.append([produto, qtde])\n",
    "    \n",
    "print(vendas)"
   ]
  },
  {
   "cell_type": "code",
   "execution_count": null,
   "id": "4c6e712e",
   "metadata": {},
   "outputs": [],
   "source": []
  },
  {
   "cell_type": "code",
   "execution_count": null,
   "id": "0ec7a155",
   "metadata": {},
   "outputs": [],
   "source": []
  }
 ],
 "metadata": {
  "kernelspec": {
   "display_name": "Python 3",
   "language": "python",
   "name": "python3"
  },
  "language_info": {
   "codemirror_mode": {
    "name": "ipython",
    "version": 3
   },
   "file_extension": ".py",
   "mimetype": "text/x-python",
   "name": "python",
   "nbconvert_exporter": "python",
   "pygments_lexer": "ipython3",
   "version": "3.8.8"
  }
 },
 "nbformat": 4,
 "nbformat_minor": 5
}
