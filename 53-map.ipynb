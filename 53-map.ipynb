{
 "cells": [
  {
   "cell_type": "code",
   "execution_count": 1,
   "id": "a3398300",
   "metadata": {},
   "outputs": [],
   "source": [
    "#map(função,iterable) -> map faz com que a função seja\n",
    "#aplicada a cada item iterável"
   ]
  },
  {
   "cell_type": "code",
   "execution_count": 2,
   "id": "8d271d6a",
   "metadata": {},
   "outputs": [],
   "source": [
    "def padronizar(texto):\n",
    "    texto = texto.casefold()\n",
    "    texto = texto.strip()\n",
    "    return texto"
   ]
  },
  {
   "cell_type": "code",
   "execution_count": 3,
   "id": "6934540f",
   "metadata": {},
   "outputs": [],
   "source": [
    "produtos = ['ABC12','abc17','AbC33']"
   ]
  },
  {
   "cell_type": "code",
   "execution_count": 4,
   "id": "1771784b",
   "metadata": {},
   "outputs": [],
   "source": [
    "produtos = list(map(padronizar, produtos))"
   ]
  },
  {
   "cell_type": "code",
   "execution_count": 5,
   "id": "15d90776",
   "metadata": {},
   "outputs": [
    {
     "data": {
      "text/plain": [
       "['abc12', 'abc17', 'abc33']"
      ]
     },
     "execution_count": 5,
     "metadata": {},
     "output_type": "execute_result"
    }
   ],
   "source": [
    "produtos"
   ]
  },
  {
   "cell_type": "code",
   "execution_count": null,
   "id": "85115715",
   "metadata": {},
   "outputs": [],
   "source": []
  }
 ],
 "metadata": {
  "kernelspec": {
   "display_name": "Python 3",
   "language": "python",
   "name": "python3"
  },
  "language_info": {
   "codemirror_mode": {
    "name": "ipython",
    "version": 3
   },
   "file_extension": ".py",
   "mimetype": "text/x-python",
   "name": "python",
   "nbconvert_exporter": "python",
   "pygments_lexer": "ipython3",
   "version": "3.8.8"
  }
 },
 "nbformat": 4,
 "nbformat_minor": 5
}
