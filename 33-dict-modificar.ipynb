{
 "cells": [
  {
   "cell_type": "code",
   "execution_count": 1,
   "id": "228142ef",
   "metadata": {},
   "outputs": [],
   "source": [
    "lucro_1tri = {'jan':1000,'fev':2000,'mar':15000}\n",
    "lucro_2tri = {'abr':1000,'mai':2000,'jun':15000}"
   ]
  },
  {
   "cell_type": "code",
   "execution_count": 2,
   "id": "6fd22fd0",
   "metadata": {},
   "outputs": [],
   "source": [
    "lucro_1tri['ABRIL'] = 1000"
   ]
  },
  {
   "cell_type": "code",
   "execution_count": 3,
   "id": "b1ff51c1",
   "metadata": {},
   "outputs": [
    {
     "data": {
      "text/plain": [
       "{'jan': 1000, 'fev': 2000, 'mar': 15000, 'ABRIL': 1000}"
      ]
     },
     "execution_count": 3,
     "metadata": {},
     "output_type": "execute_result"
    }
   ],
   "source": [
    "lucro_1tri"
   ]
  },
  {
   "cell_type": "code",
   "execution_count": 4,
   "id": "b7efb305",
   "metadata": {},
   "outputs": [],
   "source": [
    "lucro_1tri.update(lucro_2tri)"
   ]
  },
  {
   "cell_type": "code",
   "execution_count": 5,
   "id": "655b42d0",
   "metadata": {},
   "outputs": [
    {
     "name": "stdout",
     "output_type": "stream",
     "text": [
      "{'jan': 1000, 'fev': 2000, 'mar': 15000, 'ABRIL': 1000, 'abr': 1000, 'mai': 2000, 'jun': 15000}\n"
     ]
    }
   ],
   "source": [
    "print(lucro_1tri)"
   ]
  },
  {
   "cell_type": "code",
   "execution_count": 6,
   "id": "d250ee6d",
   "metadata": {},
   "outputs": [
    {
     "name": "stdout",
     "output_type": "stream",
     "text": [
      "{'abr': 1000, 'mai': 2000, 'jun': 15000}\n"
     ]
    }
   ],
   "source": [
    "print(lucro_2tri)"
   ]
  },
  {
   "cell_type": "code",
   "execution_count": 7,
   "id": "67d57113",
   "metadata": {},
   "outputs": [],
   "source": [
    "lucro_2tri.update({'ABC':1000})"
   ]
  },
  {
   "cell_type": "code",
   "execution_count": 8,
   "id": "2ab0409e",
   "metadata": {},
   "outputs": [
    {
     "data": {
      "text/plain": [
       "{'abr': 1000, 'mai': 2000, 'jun': 15000, 'ABC': 1000}"
      ]
     },
     "execution_count": 8,
     "metadata": {},
     "output_type": "execute_result"
    }
   ],
   "source": [
    "lucro_2tri"
   ]
  },
  {
   "cell_type": "code",
   "execution_count": 9,
   "id": "9df74ed8",
   "metadata": {},
   "outputs": [],
   "source": [
    "del lucro_1tri['ABRIL']"
   ]
  },
  {
   "cell_type": "code",
   "execution_count": 10,
   "id": "77e2b63c",
   "metadata": {},
   "outputs": [
    {
     "data": {
      "text/plain": [
       "{'jan': 1000,\n",
       " 'fev': 2000,\n",
       " 'mar': 15000,\n",
       " 'abr': 1000,\n",
       " 'mai': 2000,\n",
       " 'jun': 15000}"
      ]
     },
     "execution_count": 10,
     "metadata": {},
     "output_type": "execute_result"
    }
   ],
   "source": [
    "lucro_1tri"
   ]
  },
  {
   "cell_type": "code",
   "execution_count": 13,
   "id": "fe377b15",
   "metadata": {},
   "outputs": [
    {
     "data": {
      "text/plain": [
       "1000"
      ]
     },
     "execution_count": 13,
     "metadata": {},
     "output_type": "execute_result"
    }
   ],
   "source": [
    "lucro_2tri.pop('ABC')"
   ]
  },
  {
   "cell_type": "code",
   "execution_count": 14,
   "id": "ec8e2798",
   "metadata": {},
   "outputs": [],
   "source": [
    "lucro_2tri.clear()"
   ]
  },
  {
   "cell_type": "code",
   "execution_count": 15,
   "id": "5eb15931",
   "metadata": {},
   "outputs": [
    {
     "data": {
      "text/plain": [
       "{}"
      ]
     },
     "execution_count": 15,
     "metadata": {},
     "output_type": "execute_result"
    }
   ],
   "source": [
    "lucro_2tri"
   ]
  },
  {
   "cell_type": "code",
   "execution_count": 16,
   "id": "3decdbf3",
   "metadata": {},
   "outputs": [
    {
     "data": {
      "text/plain": [
       "{'jan': 1000,\n",
       " 'fev': 2000,\n",
       " 'mar': 15000,\n",
       " 'abr': 1000,\n",
       " 'mai': 2000,\n",
       " 'jun': 15000}"
      ]
     },
     "execution_count": 16,
     "metadata": {},
     "output_type": "execute_result"
    }
   ],
   "source": [
    "lucro_1tri"
   ]
  },
  {
   "cell_type": "code",
   "execution_count": 18,
   "id": "d54d666b",
   "metadata": {},
   "outputs": [
    {
     "name": "stdout",
     "output_type": "stream",
     "text": [
      "jan: 1000\n",
      "fev: 2000\n",
      "mar: 15000\n",
      "abr: 1000\n",
      "mai: 2000\n",
      "jun: 15000\n"
     ]
    }
   ],
   "source": [
    "for chave in lucro_1tri:\n",
    "    print('{}: {}'.format(chave,lucro_1tri[chave]))"
   ]
  },
  {
   "cell_type": "code",
   "execution_count": 21,
   "id": "a138436f",
   "metadata": {},
   "outputs": [],
   "source": [
    "total_fev = 0\n",
    "for chave in lucro_1tri:\n",
    "    if 'fev' in chave:\n",
    "        total_fev+=lucro_1tri[chave]"
   ]
  },
  {
   "cell_type": "code",
   "execution_count": 22,
   "id": "684bb763",
   "metadata": {},
   "outputs": [
    {
     "data": {
      "text/plain": [
       "2000"
      ]
     },
     "execution_count": 22,
     "metadata": {},
     "output_type": "execute_result"
    }
   ],
   "source": [
    "total_fev"
   ]
  },
  {
   "cell_type": "code",
   "execution_count": null,
   "id": "a1293140",
   "metadata": {},
   "outputs": [],
   "source": []
  }
 ],
 "metadata": {
  "kernelspec": {
   "display_name": "Python 3",
   "language": "python",
   "name": "python3"
  },
  "language_info": {
   "codemirror_mode": {
    "name": "ipython",
    "version": 3
   },
   "file_extension": ".py",
   "mimetype": "text/x-python",
   "name": "python",
   "nbconvert_exporter": "python",
   "pygments_lexer": "ipython3",
   "version": "3.8.8"
  }
 },
 "nbformat": 4,
 "nbformat_minor": 5
}
