{
 "cells": [
  {
   "cell_type": "code",
   "execution_count": 1,
   "id": "341f4c6f",
   "metadata": {},
   "outputs": [],
   "source": [
    "lista1 = ['a, b, c']\n",
    "lista2 = [1, 2, 3]"
   ]
  },
  {
   "cell_type": "code",
   "execution_count": 2,
   "id": "cfe7e2dd",
   "metadata": {},
   "outputs": [],
   "source": [
    "lista3 = lista1"
   ]
  },
  {
   "cell_type": "code",
   "execution_count": 4,
   "id": "789911a3",
   "metadata": {},
   "outputs": [
    {
     "name": "stdout",
     "output_type": "stream",
     "text": [
      "['a, b, c']\n",
      "['a, b, c']\n"
     ]
    }
   ],
   "source": [
    "print(lista3)\n",
    "print(lista1)"
   ]
  },
  {
   "cell_type": "code",
   "execution_count": 5,
   "id": "b524f97b",
   "metadata": {},
   "outputs": [],
   "source": [
    "lista3[0] = 'andré'"
   ]
  },
  {
   "cell_type": "code",
   "execution_count": 7,
   "id": "1385ad45",
   "metadata": {},
   "outputs": [
    {
     "name": "stdout",
     "output_type": "stream",
     "text": [
      "['andré']\n",
      "['andré']\n"
     ]
    }
   ],
   "source": [
    "print(lista3)\n",
    "print(lista1)"
   ]
  },
  {
   "cell_type": "code",
   "execution_count": 8,
   "id": "00ec6bda",
   "metadata": {},
   "outputs": [],
   "source": [
    "lista4 = lista2.copy() #listas não são vinculadas dessa forma"
   ]
  },
  {
   "cell_type": "code",
   "execution_count": 9,
   "id": "4b5213d9",
   "metadata": {},
   "outputs": [
    {
     "name": "stdout",
     "output_type": "stream",
     "text": [
      "[1, 2, 3]\n",
      "[1, 2, 3]\n"
     ]
    }
   ],
   "source": [
    "print(lista4)\n",
    "print(lista2)"
   ]
  },
  {
   "cell_type": "code",
   "execution_count": 11,
   "id": "863038e0",
   "metadata": {},
   "outputs": [],
   "source": [
    "lista4[0] = 'abc'"
   ]
  },
  {
   "cell_type": "code",
   "execution_count": 12,
   "id": "9f212ff1",
   "metadata": {},
   "outputs": [
    {
     "name": "stdout",
     "output_type": "stream",
     "text": [
      "['abc', 2, 3]\n",
      "[1, 2, 3]\n"
     ]
    }
   ],
   "source": [
    "print(lista4)\n",
    "print(lista2)"
   ]
  },
  {
   "cell_type": "code",
   "execution_count": 13,
   "id": "dd99b2be",
   "metadata": {},
   "outputs": [],
   "source": [
    "#outra forma de não criar vínculo:\n",
    "lista5 = lista1[:]"
   ]
  },
  {
   "cell_type": "code",
   "execution_count": 14,
   "id": "0a31f433",
   "metadata": {},
   "outputs": [
    {
     "name": "stdout",
     "output_type": "stream",
     "text": [
      "['andré']\n",
      "['andré']\n"
     ]
    }
   ],
   "source": [
    "print(lista5)\n",
    "print(lista1)"
   ]
  },
  {
   "cell_type": "code",
   "execution_count": 15,
   "id": "71f2905d",
   "metadata": {},
   "outputs": [],
   "source": [
    "lista5[0]=1"
   ]
  },
  {
   "cell_type": "code",
   "execution_count": 16,
   "id": "01f1c28f",
   "metadata": {},
   "outputs": [
    {
     "name": "stdout",
     "output_type": "stream",
     "text": [
      "[1]\n",
      "['andré']\n"
     ]
    }
   ],
   "source": [
    "print(lista5)\n",
    "print(lista1)"
   ]
  },
  {
   "cell_type": "code",
   "execution_count": null,
   "id": "89439ae4",
   "metadata": {},
   "outputs": [],
   "source": []
  }
 ],
 "metadata": {
  "kernelspec": {
   "display_name": "Python 3",
   "language": "python",
   "name": "python3"
  },
  "language_info": {
   "codemirror_mode": {
    "name": "ipython",
    "version": 3
   },
   "file_extension": ".py",
   "mimetype": "text/x-python",
   "name": "python",
   "nbconvert_exporter": "python",
   "pygments_lexer": "ipython3",
   "version": "3.8.8"
  }
 },
 "nbformat": 4,
 "nbformat_minor": 5
}
