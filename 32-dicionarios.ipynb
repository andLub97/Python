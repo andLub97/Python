{
 "cells": [
  {
   "cell_type": "code",
   "execution_count": 1,
   "id": "b1c996b2",
   "metadata": {},
   "outputs": [],
   "source": [
    "vendas = {'iphone x':1500,'samsung galaxy':12000}"
   ]
  },
  {
   "cell_type": "code",
   "execution_count": 3,
   "id": "573e26b0",
   "metadata": {},
   "outputs": [
    {
     "data": {
      "text/plain": [
       "1500"
      ]
     },
     "execution_count": 3,
     "metadata": {},
     "output_type": "execute_result"
    }
   ],
   "source": [
    "vendas['iphone x']"
   ]
  },
  {
   "cell_type": "code",
   "execution_count": 4,
   "id": "9f999a4b",
   "metadata": {},
   "outputs": [],
   "source": [
    "mais_vendidos={'tecnologia':'iphone','refrigeracao':'ar consul','livros':'o alquimista'}"
   ]
  },
  {
   "cell_type": "code",
   "execution_count": 5,
   "id": "f862f396",
   "metadata": {},
   "outputs": [],
   "source": [
    "vendas = {'iphone':1500,'ar consul': 12000,'livros':4000}"
   ]
  },
  {
   "cell_type": "code",
   "execution_count": 7,
   "id": "13a5535e",
   "metadata": {},
   "outputs": [],
   "source": [
    "#não confiar na ordem dos dicts (mesmo que em versões atuais a ordem seja fixa)"
   ]
  },
  {
   "cell_type": "code",
   "execution_count": 11,
   "id": "b8f4eb98",
   "metadata": {},
   "outputs": [
    {
     "name": "stdout",
     "output_type": "stream",
     "text": [
      "livro mais vendido: o alquimista\n"
     ]
    }
   ],
   "source": [
    "print('livro mais vendido: {}'.format(mais_vendidos['livros']))"
   ]
  },
  {
   "cell_type": "code",
   "execution_count": 12,
   "id": "c884f348",
   "metadata": {},
   "outputs": [
    {
     "data": {
      "text/plain": [
       "12000"
      ]
     },
     "execution_count": 12,
     "metadata": {},
     "output_type": "execute_result"
    }
   ],
   "source": [
    "vendas.get('ar consul')"
   ]
  },
  {
   "cell_type": "code",
   "execution_count": 14,
   "id": "4886c058",
   "metadata": {},
   "outputs": [
    {
     "name": "stdout",
     "output_type": "stream",
     "text": [
      "produto não encontrado\n"
     ]
    }
   ],
   "source": [
    "if vendas.get('galaxy') == None:\n",
    "    print('produto não encontrado')\n",
    "else:\n",
    "    print(vendas.get('iphone'))"
   ]
  },
  {
   "cell_type": "code",
   "execution_count": null,
   "id": "7c088898",
   "metadata": {},
   "outputs": [],
   "source": []
  }
 ],
 "metadata": {
  "kernelspec": {
   "display_name": "Python 3",
   "language": "python",
   "name": "python3"
  },
  "language_info": {
   "codemirror_mode": {
    "name": "ipython",
    "version": 3
   },
   "file_extension": ".py",
   "mimetype": "text/x-python",
   "name": "python",
   "nbconvert_exporter": "python",
   "pygments_lexer": "ipython3",
   "version": "3.8.8"
  }
 },
 "nbformat": 4,
 "nbformat_minor": 5
}
