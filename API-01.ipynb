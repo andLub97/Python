{
 "cells": [
  {
   "cell_type": "code",
   "execution_count": 1,
   "id": "3193309d",
   "metadata": {},
   "outputs": [
    {
     "name": "stdout",
     "output_type": "stream",
     "text": [
      "<Response [200]>\n"
     ]
    }
   ],
   "source": [
    "import requests\n",
    "import json\n",
    "\n",
    "cotacoes = requests.get('https://economia.awesomeapi.com.br/json/all')\n",
    "cotacoes_dic = cotacoes.json()\n",
    "print(cotacoes)"
   ]
  },
  {
   "cell_type": "code",
   "execution_count": 2,
   "id": "c6afe4f4",
   "metadata": {},
   "outputs": [
    {
     "name": "stdout",
     "output_type": "stream",
     "text": [
      "{'USD': {'code': 'USD', 'codein': 'BRL', 'name': 'Dólar Americano/Real Brasileiro', 'high': '5.0294', 'low': '5.0285', 'varBid': '0.0006', 'pctChange': '0.01', 'bid': '5.0283', 'ask': '5.0293', 'timestamp': '1661840726', 'create_date': '2022-08-30 03:25:26'}, 'USDT': {'code': 'USD', 'codein': 'BRLT', 'name': 'Dólar Americano/Real Brasileiro Turismo', 'high': '5.05', 'low': '5.05', 'varBid': '0', 'pctChange': '0', 'bid': '4.9', 'ask': '5.2', 'timestamp': '1661800860', 'create_date': '2022-08-29 16:21:00'}, 'CAD': {'code': 'CAD', 'codein': 'BRL', 'name': 'Dólar Canadense/Real Brasileiro', 'high': '3.8691', 'low': '3.8607', 'varBid': '0.0016', 'pctChange': '0.04', 'bid': '3.865', 'ask': '3.8669', 'timestamp': '1661840726', 'create_date': '2022-08-30 03:25:26'}, 'GBP': {'code': 'GBP', 'codein': 'BRL', 'name': 'Libra Esterlina/Real Brasileiro', 'high': '5.8973', 'low': '5.8779', 'varBid': '-0.0003', 'pctChange': '-0.01', 'bid': '5.8846', 'ask': '5.8878', 'timestamp': '1661840727', 'create_date': '2022-08-30 03:25:27'}, 'ARS': {'code': 'ARS', 'codein': 'BRL', 'name': 'Peso Argentino/Real Brasileiro', 'high': '0.0364', 'low': '0.0364', 'varBid': '0', 'pctChange': '0', 'bid': '0.0364', 'ask': '0.0364', 'timestamp': '1661840726', 'create_date': '2022-08-30 03:25:26'}, 'BTC': {'code': 'BTC', 'codein': 'BRL', 'name': 'Bitcoin/Real Brasileiro', 'high': '104.298', 'low': '101.034', 'varBid': '1888', 'pctChange': '1.86', 'bid': '103.166', 'ask': '103.235', 'timestamp': '1661840546', 'create_date': '2022-08-30 03:22:26'}, 'LTC': {'code': 'LTC', 'codein': 'BRL', 'name': 'Litecoin/Real Brasileiro', 'high': '289', 'low': '274.94', 'varBid': '2.79', 'pctChange': '1', 'bid': '280.4', 'ask': '281.67', 'timestamp': '1661840542', 'create_date': '2022-08-30 03:22:22'}, 'EUR': {'code': 'EUR', 'codein': 'BRL', 'name': 'Euro/Real Brasileiro', 'high': '5.0353', 'low': '5.0195', 'varBid': '0.0034', 'pctChange': '0.07', 'bid': '5.0283', 'ask': '5.0298', 'timestamp': '1661840728', 'create_date': '2022-08-30 03:25:28'}, 'JPY': {'code': 'JPY', 'codein': 'BRL', 'name': 'Iene Japonês/Real Brasileiro', 'high': '0.03633', 'low': '0.03624', 'varBid': '0.0001', 'pctChange': '0.28', 'bid': '0.03631', 'ask': '0.03633', 'timestamp': '1661840730', 'create_date': '2022-08-30 03:25:30'}, 'CHF': {'code': 'CHF', 'codein': 'BRL', 'name': 'Franco Suíço/Real Brasileiro', 'high': '5.2026', 'low': '5.1923', 'varBid': '0.0081', 'pctChange': '0.16', 'bid': '5.1988', 'ask': '5.202', 'timestamp': '1661840724', 'create_date': '2022-08-30 03:25:24'}, 'AUD': {'code': 'AUD', 'codein': 'BRL', 'name': 'Dólar Australiano/Real Brasileiro', 'high': '3.4785', 'low': '3.4565', 'varBid': '-0.0019', 'pctChange': '-0.05', 'bid': '3.4685', 'ask': '3.4697', 'timestamp': '1661840726', 'create_date': '2022-08-30 03:25:26'}, 'CNY': {'code': 'CNY', 'codein': 'BRL', 'name': 'Yuan Chinês/Real Brasileiro', 'high': '0.7281', 'low': '0.7266', 'varBid': '-0.004', 'pctChange': '-0.54', 'bid': '0.7273', 'ask': '0.7275', 'timestamp': '1661840642', 'create_date': '2022-08-30 03:24:02'}, 'ILS': {'code': 'ILS', 'codein': 'BRL', 'name': 'Novo Shekel Israelense/Real Brasileiro', 'high': '1.5174', 'low': '1.512', 'varBid': '-0.0118', 'pctChange': '-0.77', 'bid': '1.514', 'ask': '1.5143', 'timestamp': '1661840704', 'create_date': '2022-08-30 03:25:04'}, 'ETH': {'code': 'ETH', 'codein': 'BRL', 'name': 'Ethereum/Real Brasileiro', 'high': '8.3', 'low': '7.38052', 'varBid': '598.36', 'pctChange': '8.07', 'bid': '8.00811', 'ask': '8.00856', 'timestamp': '1661840544', 'create_date': '2022-08-30 03:22:24'}, 'XRP': {'code': 'XRP', 'codein': 'BRL', 'name': 'XRP/Real Brasileiro', 'high': '1.7', 'low': '1.63', 'varBid': '0.03', 'pctChange': '1.96', 'bid': '1.68', 'ask': '1.69', 'timestamp': '1661840544', 'create_date': '2022-08-30 03:22:24'}, 'DOGE': {'code': 'DOGE', 'codein': 'BRL', 'name': 'Dogecoin/Real Brasileiro', 'high': '0.324775', 'low': '0.311143', 'varBid': '0.00838199', 'pctChange': '2.68', 'bid': '0.321693', 'ask': '0.321693', 'timestamp': '1661840686', 'create_date': '2022-08-30 03:24:46'}}\n"
     ]
    }
   ],
   "source": [
    "print(cotacoes_dic)"
   ]
  },
  {
   "cell_type": "code",
   "execution_count": 3,
   "id": "232d9903",
   "metadata": {},
   "outputs": [
    {
     "name": "stdout",
     "output_type": "stream",
     "text": [
      "Dólar: 5.0283\n"
     ]
    }
   ],
   "source": [
    "print('Dólar: {}'.format(cotacoes_dic['USD']['bid']))"
   ]
  },
  {
   "cell_type": "code",
   "execution_count": 4,
   "id": "7baff254",
   "metadata": {},
   "outputs": [
    {
     "name": "stdout",
     "output_type": "stream",
     "text": [
      "Euro: 5.0283\n"
     ]
    }
   ],
   "source": [
    "print('Euro: {}'.format(cotacoes_dic['EUR']['bid']))"
   ]
  },
  {
   "cell_type": "code",
   "execution_count": 5,
   "id": "f9775040",
   "metadata": {},
   "outputs": [
    {
     "name": "stdout",
     "output_type": "stream",
     "text": [
      "Bitcoin: 103.166\n"
     ]
    }
   ],
   "source": [
    "print('Bitcoin: {}'.format(cotacoes_dic['BTC']['bid']))"
   ]
  },
  {
   "cell_type": "code",
   "execution_count": null,
   "id": "166de321",
   "metadata": {},
   "outputs": [],
   "source": []
  }
 ],
 "metadata": {
  "kernelspec": {
   "display_name": "Python 3",
   "language": "python",
   "name": "python3"
  },
  "language_info": {
   "codemirror_mode": {
    "name": "ipython",
    "version": 3
   },
   "file_extension": ".py",
   "mimetype": "text/x-python",
   "name": "python",
   "nbconvert_exporter": "python",
   "pygments_lexer": "ipython3",
   "version": "3.8.8"
  }
 },
 "nbformat": 4,
 "nbformat_minor": 5
}
