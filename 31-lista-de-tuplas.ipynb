{
 "cells": [
  {
   "cell_type": "code",
   "execution_count": 4,
   "id": "8f89c71e",
   "metadata": {},
   "outputs": [
    {
     "name": "stdout",
     "output_type": "stream",
     "text": [
      "('10/10/2010', 'iphone x', 350, 5000)\n"
     ]
    }
   ],
   "source": [
    "vendas = [\n",
    "    ('10/10/2010', 'iphone x', 350, 5000),\n",
    "    ('12/10/2010', 'iphone y', 3500, 7000),\n",
    "    ('13/10/2010', 'iphone z', 50, 115000)\n",
    "]\n",
    "\n",
    "faturamento = vendas[0]\n",
    "\n",
    "print(faturamento)"
   ]
  },
  {
   "cell_type": "code",
   "execution_count": 5,
   "id": "2e175d22",
   "metadata": {},
   "outputs": [
    {
     "name": "stdout",
     "output_type": "stream",
     "text": [
      "iphone y\n"
     ]
    }
   ],
   "source": [
    "data,produto,unidades,valor = vendas[1]\n",
    "print(produto)"
   ]
  },
  {
   "cell_type": "code",
   "execution_count": null,
   "id": "b5bb4d61",
   "metadata": {},
   "outputs": [],
   "source": []
  }
 ],
 "metadata": {
  "kernelspec": {
   "display_name": "Python 3",
   "language": "python",
   "name": "python3"
  },
  "language_info": {
   "codemirror_mode": {
    "name": "ipython",
    "version": 3
   },
   "file_extension": ".py",
   "mimetype": "text/x-python",
   "name": "python",
   "nbconvert_exporter": "python",
   "pygments_lexer": "ipython3",
   "version": "3.8.8"
  }
 },
 "nbformat": 4,
 "nbformat_minor": 5
}
