{
 "cells": [
  {
   "cell_type": "code",
   "execution_count": 1,
   "id": "30f334c3",
   "metadata": {},
   "outputs": [],
   "source": [
    "def operacoes(num1, num2):\n",
    "    soma = num1 + num2\n",
    "    mult = num1*num2\n",
    "    return(soma,mult)"
   ]
  },
  {
   "cell_type": "code",
   "execution_count": 2,
   "id": "51635978",
   "metadata": {},
   "outputs": [
    {
     "data": {
      "text/plain": [
       "(10, 25)"
      ]
     },
     "execution_count": 2,
     "metadata": {},
     "output_type": "execute_result"
    }
   ],
   "source": [
    "operacoes(5,5)"
   ]
  },
  {
   "cell_type": "code",
   "execution_count": null,
   "id": "371ed669",
   "metadata": {},
   "outputs": [],
   "source": []
  }
 ],
 "metadata": {
  "kernelspec": {
   "display_name": "Python 3",
   "language": "python",
   "name": "python3"
  },
  "language_info": {
   "codemirror_mode": {
    "name": "ipython",
    "version": 3
   },
   "file_extension": ".py",
   "mimetype": "text/x-python",
   "name": "python",
   "nbconvert_exporter": "python",
   "pygments_lexer": "ipython3",
   "version": "3.8.8"
  }
 },
 "nbformat": 4,
 "nbformat_minor": 5
}
