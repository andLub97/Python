{
 "cells": [
  {
   "cell_type": "code",
   "execution_count": 3,
   "id": "2ca73c6a",
   "metadata": {},
   "outputs": [
    {
     "name": "stdout",
     "output_type": "stream",
     "text": [
      "0: andré\n",
      "1: ana\n",
      "2: joaquim\n",
      "3: maria\n"
     ]
    }
   ],
   "source": [
    "lista = ['andré', 'ana', 'joaquim','maria']\n",
    "\n",
    "for indice, nome in enumerate(lista):\n",
    "    print('{}: {}'.format(indice,nome))"
   ]
  },
  {
   "cell_type": "code",
   "execution_count": null,
   "id": "ca824e4b",
   "metadata": {},
   "outputs": [],
   "source": []
  }
 ],
 "metadata": {
  "kernelspec": {
   "display_name": "Python 3",
   "language": "python",
   "name": "python3"
  },
  "language_info": {
   "codemirror_mode": {
    "name": "ipython",
    "version": 3
   },
   "file_extension": ".py",
   "mimetype": "text/x-python",
   "name": "python",
   "nbconvert_exporter": "python",
   "pygments_lexer": "ipython3",
   "version": "3.8.8"
  }
 },
 "nbformat": 4,
 "nbformat_minor": 5
}
