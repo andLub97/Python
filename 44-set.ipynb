{
 "cells": [
  {
   "cell_type": "code",
   "execution_count": 8,
   "id": "b6bb9629",
   "metadata": {},
   "outputs": [],
   "source": [
    "produtos = {'arroz','feijão','ovo','banana','ameixa','arroz'}"
   ]
  },
  {
   "cell_type": "code",
   "execution_count": 9,
   "id": "01c75b50",
   "metadata": {},
   "outputs": [
    {
     "name": "stdout",
     "output_type": "stream",
     "text": [
      "{'arroz', 'banana', 'feijão', 'ovo', 'ameixa'}\n"
     ]
    }
   ],
   "source": [
    "print(produtos)"
   ]
  },
  {
   "cell_type": "code",
   "execution_count": 10,
   "id": "528fec5a",
   "metadata": {},
   "outputs": [],
   "source": [
    "valores=[1,2,1,2,3,4,4]"
   ]
  },
  {
   "cell_type": "code",
   "execution_count": 11,
   "id": "68864218",
   "metadata": {},
   "outputs": [],
   "source": [
    "set_valores = set(valores)"
   ]
  },
  {
   "cell_type": "code",
   "execution_count": 12,
   "id": "a9ea63c8",
   "metadata": {},
   "outputs": [
    {
     "data": {
      "text/plain": [
       "{1, 2, 3, 4}"
      ]
     },
     "execution_count": 12,
     "metadata": {},
     "output_type": "execute_result"
    }
   ],
   "source": [
    "set_valores"
   ]
  },
  {
   "cell_type": "code",
   "execution_count": null,
   "id": "f28de133",
   "metadata": {},
   "outputs": [],
   "source": []
  }
 ],
 "metadata": {
  "kernelspec": {
   "display_name": "Python 3",
   "language": "python",
   "name": "python3"
  },
  "language_info": {
   "codemirror_mode": {
    "name": "ipython",
    "version": 3
   },
   "file_extension": ".py",
   "mimetype": "text/x-python",
   "name": "python",
   "nbconvert_exporter": "python",
   "pygments_lexer": "ipython3",
   "version": "3.8.8"
  }
 },
 "nbformat": 4,
 "nbformat_minor": 5
}
