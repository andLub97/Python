{
 "cells": [
  {
   "cell_type": "code",
   "execution_count": 1,
   "id": "93937f5a",
   "metadata": {},
   "outputs": [],
   "source": [
    "#registro de hóspedes"
   ]
  },
  {
   "cell_type": "code",
   "execution_count": 3,
   "id": "43b1bf71",
   "metadata": {},
   "outputs": [
    {
     "name": "stdout",
     "output_type": "stream",
     "text": [
      "Quantas pessoas terão no quarto? 3\n",
      "Nome: andré\n",
      "CPF: 03444\n",
      "Nome: jáo\n",
      "CPF: 3445\n",
      "Nome: luis\n",
      "CPF: 1234\n",
      "[['andré', 'cpf:03444'], ['jáo', 'cpf:3445'], ['luis', 'cpf:1234']]\n"
     ]
    }
   ],
   "source": [
    "qtdeP = int(input('Quantas pessoas terão no quarto? '))\n",
    "quarto = []\n",
    "\n",
    "for i in range(qtdeP):\n",
    "    nome = input('Nome: ')\n",
    "    cpf = input('CPF: ')\n",
    "    hospede = [nome, 'cpf:{}'.format(cpf)]\n",
    "    quarto.append(hospede)\n",
    "    \n",
    "print(quarto)\n"
   ]
  },
  {
   "cell_type": "code",
   "execution_count": 4,
   "id": "11763ed0",
   "metadata": {},
   "outputs": [
    {
     "name": "stdout",
     "output_type": "stream",
     "text": [
      "João bateu a meta. Fez 15000 vendas\n",
      "João carlos bateu a meta. Fez 25000 vendas\n",
      "Maria bateu a meta. Fez 65000 vendas\n"
     ]
    }
   ],
   "source": [
    "#análise simples sobre atingimento de metas\n",
    "meta = 10000\n",
    "vendas = [\n",
    "    ['João', 15000],\n",
    "    ['João carlos', 25000],\n",
    "    ['Túlio', 350],\n",
    "    ['Maria', 65000],\n",
    "    ['Lúcia', 5000],\n",
    "]\n",
    "\n",
    "for item in vendas:\n",
    "    if item[1] >= meta:\n",
    "        print('{} bateu a meta. Fez {} vendas'.format(item[0], item[1]))"
   ]
  },
  {
   "cell_type": "code",
   "execution_count": null,
   "id": "b617e2ff",
   "metadata": {},
   "outputs": [],
   "source": []
  }
 ],
 "metadata": {
  "kernelspec": {
   "display_name": "Python 3",
   "language": "python",
   "name": "python3"
  },
  "language_info": {
   "codemirror_mode": {
    "name": "ipython",
    "version": 3
   },
   "file_extension": ".py",
   "mimetype": "text/x-python",
   "name": "python",
   "nbconvert_exporter": "python",
   "pygments_lexer": "ipython3",
   "version": "3.8.8"
  }
 },
 "nbformat": 4,
 "nbformat_minor": 5
}
