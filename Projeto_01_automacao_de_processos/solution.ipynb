{
 "cells": [
  {
   "cell_type": "code",
   "execution_count": 1,
   "id": "59adf3f9",
   "metadata": {},
   "outputs": [],
   "source": [
    "#importar e tratar os dados\n",
    "#enviar email\n",
    "#backup"
   ]
  },
  {
   "cell_type": "code",
   "execution_count": 44,
   "id": "54e532b3",
   "metadata": {},
   "outputs": [],
   "source": [
    "#1 importat arquivos e bibliotecas\n",
    "\n",
    "import pandas as pd\n",
    "import pathlib\n",
    "\n",
    "emails = pd.read_excel(r'Bases de Dados\\Emails.xlsx')\n",
    "lojas = pd.read_csv(r'Bases de Dados\\Lojas.csv', encoding='latin1',sep=';')\n",
    "vendas = pd.read_excel(r'Bases de Dados\\Vendas.xlsx')\n",
    "#display(emails)\n",
    "#display(lojas)\n",
    "#display(vendas)"
   ]
  },
  {
   "cell_type": "code",
   "execution_count": 31,
   "id": "963eff5c",
   "metadata": {},
   "outputs": [],
   "source": [
    "#criar uma tabela para cada loja e definir o dia do indicador"
   ]
  },
  {
   "cell_type": "code",
   "execution_count": 45,
   "id": "03be0407",
   "metadata": {},
   "outputs": [],
   "source": [
    "vendas = vendas.merge(lojas, on = 'ID Loja')\n",
    "#display(vendas)"
   ]
  },
  {
   "cell_type": "code",
   "execution_count": 46,
   "id": "13899cb1",
   "metadata": {},
   "outputs": [
    {
     "data": {
      "text/html": [
       "<div>\n",
       "<style scoped>\n",
       "    .dataframe tbody tr th:only-of-type {\n",
       "        vertical-align: middle;\n",
       "    }\n",
       "\n",
       "    .dataframe tbody tr th {\n",
       "        vertical-align: top;\n",
       "    }\n",
       "\n",
       "    .dataframe thead th {\n",
       "        text-align: right;\n",
       "    }\n",
       "</style>\n",
       "<table border=\"1\" class=\"dataframe\">\n",
       "  <thead>\n",
       "    <tr style=\"text-align: right;\">\n",
       "      <th></th>\n",
       "      <th>Código Venda</th>\n",
       "      <th>Data</th>\n",
       "      <th>ID Loja</th>\n",
       "      <th>Produto</th>\n",
       "      <th>Quantidade</th>\n",
       "      <th>Valor Unitário</th>\n",
       "      <th>Valor Final</th>\n",
       "      <th>Loja</th>\n",
       "    </tr>\n",
       "  </thead>\n",
       "  <tbody>\n",
       "    <tr>\n",
       "      <th>64268</th>\n",
       "      <td>32</td>\n",
       "      <td>2019-01-02</td>\n",
       "      <td>19</td>\n",
       "      <td>Polo Liso</td>\n",
       "      <td>1</td>\n",
       "      <td>137</td>\n",
       "      <td>137</td>\n",
       "      <td>Shopping Vila Velha</td>\n",
       "    </tr>\n",
       "    <tr>\n",
       "      <th>64269</th>\n",
       "      <td>32</td>\n",
       "      <td>2019-01-02</td>\n",
       "      <td>19</td>\n",
       "      <td>Polo Listrado</td>\n",
       "      <td>2</td>\n",
       "      <td>149</td>\n",
       "      <td>298</td>\n",
       "      <td>Shopping Vila Velha</td>\n",
       "    </tr>\n",
       "    <tr>\n",
       "      <th>64270</th>\n",
       "      <td>38</td>\n",
       "      <td>2019-01-02</td>\n",
       "      <td>19</td>\n",
       "      <td>Meia Xadrez</td>\n",
       "      <td>3</td>\n",
       "      <td>41</td>\n",
       "      <td>123</td>\n",
       "      <td>Shopping Vila Velha</td>\n",
       "    </tr>\n",
       "    <tr>\n",
       "      <th>64271</th>\n",
       "      <td>38</td>\n",
       "      <td>2019-01-02</td>\n",
       "      <td>19</td>\n",
       "      <td>Relógio</td>\n",
       "      <td>1</td>\n",
       "      <td>200</td>\n",
       "      <td>200</td>\n",
       "      <td>Shopping Vila Velha</td>\n",
       "    </tr>\n",
       "    <tr>\n",
       "      <th>64272</th>\n",
       "      <td>82</td>\n",
       "      <td>2019-01-02</td>\n",
       "      <td>19</td>\n",
       "      <td>Meia Listrado</td>\n",
       "      <td>1</td>\n",
       "      <td>37</td>\n",
       "      <td>37</td>\n",
       "      <td>Shopping Vila Velha</td>\n",
       "    </tr>\n",
       "    <tr>\n",
       "      <th>...</th>\n",
       "      <td>...</td>\n",
       "      <td>...</td>\n",
       "      <td>...</td>\n",
       "      <td>...</td>\n",
       "      <td>...</td>\n",
       "      <td>...</td>\n",
       "      <td>...</td>\n",
       "      <td>...</td>\n",
       "    </tr>\n",
       "    <tr>\n",
       "      <th>68497</th>\n",
       "      <td>69801</td>\n",
       "      <td>2019-12-25</td>\n",
       "      <td>19</td>\n",
       "      <td>Bermuda</td>\n",
       "      <td>3</td>\n",
       "      <td>150</td>\n",
       "      <td>450</td>\n",
       "      <td>Shopping Vila Velha</td>\n",
       "    </tr>\n",
       "    <tr>\n",
       "      <th>68498</th>\n",
       "      <td>69859</td>\n",
       "      <td>2019-12-25</td>\n",
       "      <td>19</td>\n",
       "      <td>Meia Liso</td>\n",
       "      <td>2</td>\n",
       "      <td>38</td>\n",
       "      <td>76</td>\n",
       "      <td>Shopping Vila Velha</td>\n",
       "    </tr>\n",
       "    <tr>\n",
       "      <th>68499</th>\n",
       "      <td>69970</td>\n",
       "      <td>2019-12-26</td>\n",
       "      <td>19</td>\n",
       "      <td>Casaco Linho</td>\n",
       "      <td>2</td>\n",
       "      <td>299</td>\n",
       "      <td>598</td>\n",
       "      <td>Shopping Vila Velha</td>\n",
       "    </tr>\n",
       "    <tr>\n",
       "      <th>68500</th>\n",
       "      <td>69974</td>\n",
       "      <td>2019-12-26</td>\n",
       "      <td>19</td>\n",
       "      <td>Meia Listrado</td>\n",
       "      <td>3</td>\n",
       "      <td>37</td>\n",
       "      <td>111</td>\n",
       "      <td>Shopping Vila Velha</td>\n",
       "    </tr>\n",
       "    <tr>\n",
       "      <th>68501</th>\n",
       "      <td>69985</td>\n",
       "      <td>2019-12-26</td>\n",
       "      <td>19</td>\n",
       "      <td>Pulseira Linho</td>\n",
       "      <td>2</td>\n",
       "      <td>114</td>\n",
       "      <td>228</td>\n",
       "      <td>Shopping Vila Velha</td>\n",
       "    </tr>\n",
       "  </tbody>\n",
       "</table>\n",
       "<p>4234 rows × 8 columns</p>\n",
       "</div>"
      ],
      "text/plain": [
       "       Código Venda       Data  ID Loja         Produto  Quantidade  \\\n",
       "64268            32 2019-01-02       19       Polo Liso           1   \n",
       "64269            32 2019-01-02       19   Polo Listrado           2   \n",
       "64270            38 2019-01-02       19     Meia Xadrez           3   \n",
       "64271            38 2019-01-02       19         Relógio           1   \n",
       "64272            82 2019-01-02       19   Meia Listrado           1   \n",
       "...             ...        ...      ...             ...         ...   \n",
       "68497         69801 2019-12-25       19         Bermuda           3   \n",
       "68498         69859 2019-12-25       19       Meia Liso           2   \n",
       "68499         69970 2019-12-26       19    Casaco Linho           2   \n",
       "68500         69974 2019-12-26       19   Meia Listrado           3   \n",
       "68501         69985 2019-12-26       19  Pulseira Linho           2   \n",
       "\n",
       "       Valor Unitário  Valor Final                 Loja  \n",
       "64268             137          137  Shopping Vila Velha  \n",
       "64269             149          298  Shopping Vila Velha  \n",
       "64270              41          123  Shopping Vila Velha  \n",
       "64271             200          200  Shopping Vila Velha  \n",
       "64272              37           37  Shopping Vila Velha  \n",
       "...               ...          ...                  ...  \n",
       "68497             150          450  Shopping Vila Velha  \n",
       "68498              38           76  Shopping Vila Velha  \n",
       "68499             299          598  Shopping Vila Velha  \n",
       "68500              37          111  Shopping Vila Velha  \n",
       "68501             114          228  Shopping Vila Velha  \n",
       "\n",
       "[4234 rows x 8 columns]"
      ]
     },
     "metadata": {},
     "output_type": "display_data"
    }
   ],
   "source": [
    "dicionario_lojas = {}\n",
    "for loja in lojas['Loja']:\n",
    "    dicionario_lojas[loja] = vendas.loc[vendas['Loja']==loja, :]\n",
    "display(dicionario_lojas['Shopping Vila Velha'])"
   ]
  },
  {
   "cell_type": "code",
   "execution_count": 47,
   "id": "f33a5a5e",
   "metadata": {},
   "outputs": [
    {
     "name": "stdout",
     "output_type": "stream",
     "text": [
      "2019-12-26 00:00:00\n"
     ]
    }
   ],
   "source": [
    "dia_indicador = vendas['Data'].max()\n",
    "print(dia_indicador)"
   ]
  },
  {
   "cell_type": "code",
   "execution_count": 48,
   "id": "dcaa506c",
   "metadata": {},
   "outputs": [],
   "source": [
    "caminho_backup = pathlib.Path(r'Backup Arquivos Lojas')"
   ]
  },
  {
   "cell_type": "code",
   "execution_count": 50,
   "id": "ca807a65",
   "metadata": {},
   "outputs": [
    {
     "name": "stdout",
     "output_type": "stream",
     "text": [
      "['Bourbon Shopping SP', 'Center Shopping Uberlândia', 'Iguatemi Campinas', 'Iguatemi Esplanada', 'Norte Shopping', 'Novo Shopping Ribeirão Preto', 'Palladium Shopping Curitiba', 'Parque Dom Pedro Shopping', 'Passei das Águas Shopping', 'Ribeirão Shopping', 'Rio Mar Recife', 'Rio Mar Shopping Fortaleza', 'Salvador Shopping', 'Shopping Barra', 'Shopping Center Interlagos', 'Shopping Center Leste Aricanduva', 'Shopping Eldorado', 'Shopping Ibirapuera', 'Shopping Iguatemi Fortaleza', 'Shopping Midway Mall', 'Shopping Morumbi', 'Shopping Recife', 'Shopping SP Market', 'Shopping União de Osasco', 'Shopping Vila Velha', 'Bourbon Shopping SP', 'Center Shopping Uberlândia', 'Iguatemi Campinas', 'Iguatemi Esplanada', 'Norte Shopping', 'Novo Shopping Ribeirão Preto', 'Palladium Shopping Curitiba', 'Parque Dom Pedro Shopping', 'Passei das Águas Shopping', 'Ribeirão Shopping', 'Rio Mar Recife', 'Rio Mar Shopping Fortaleza', 'Salvador Shopping', 'Shopping Barra', 'Shopping Center Interlagos', 'Shopping Center Leste Aricanduva', 'Shopping Eldorado', 'Shopping Ibirapuera', 'Shopping Iguatemi Fortaleza', 'Shopping Midway Mall', 'Shopping Morumbi', 'Shopping Recife', 'Shopping SP Market', 'Shopping União de Osasco', 'Shopping Vila Velha']\n"
     ]
    }
   ],
   "source": [
    "arquivos_pasta_backup = caminho_backup.iterdir()\n",
    "for arquivo in arquivos_pasta_backup:\n",
    "    lista_nomes_backup.append(arquivo.name)\n",
    "print(lista_nomes_backup)"
   ]
  },
  {
   "cell_type": "code",
   "execution_count": 52,
   "id": "ad3172d0",
   "metadata": {},
   "outputs": [],
   "source": [
    "for loja in dicionario_lojas:\n",
    "    if loja not in lista_nomes_backup:\n",
    "        nova_pasta = caminho_backup / loja\n",
    "        nova_pasta.mkdir()\n",
    "        \n",
    "    nome_arquivo = '{}_{}_{}.xlsx'.format(dia_indicador.month,dia_indicador.day, loja)    \n",
    "    local_arquivo = caminho_backup / loja / nome_arquivo\n",
    "    \n",
    "    dicionario_lojas[loja].to_excel(local_arquivo)"
   ]
  },
  {
   "cell_type": "code",
   "execution_count": null,
   "id": "cb9c4718",
   "metadata": {},
   "outputs": [],
   "source": []
  }
 ],
 "metadata": {
  "kernelspec": {
   "display_name": "Python 3",
   "language": "python",
   "name": "python3"
  },
  "language_info": {
   "codemirror_mode": {
    "name": "ipython",
    "version": 3
   },
   "file_extension": ".py",
   "mimetype": "text/x-python",
   "name": "python",
   "nbconvert_exporter": "python",
   "pygments_lexer": "ipython3",
   "version": "3.8.8"
  }
 },
 "nbformat": 4,
 "nbformat_minor": 5
}
