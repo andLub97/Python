{
 "cells": [
  {
   "cell_type": "code",
   "execution_count": 1,
   "id": "e802245c",
   "metadata": {},
   "outputs": [],
   "source": [
    "funcao = lambda num:num*3"
   ]
  },
  {
   "cell_type": "code",
   "execution_count": 2,
   "id": "ebad38db",
   "metadata": {},
   "outputs": [
    {
     "name": "stdout",
     "output_type": "stream",
     "text": [
      "12\n"
     ]
    }
   ],
   "source": [
    "print(funcao(4))"
   ]
  },
  {
   "cell_type": "code",
   "execution_count": 3,
   "id": "2ebc1262",
   "metadata": {},
   "outputs": [],
   "source": [
    "imposto = 0.3\n",
    "precoImposto = lambda preco: preco * (1.3)"
   ]
  },
  {
   "cell_type": "code",
   "execution_count": 4,
   "id": "3f858b03",
   "metadata": {},
   "outputs": [
    {
     "name": "stdout",
     "output_type": "stream",
     "text": [
      "130.0\n"
     ]
    }
   ],
   "source": [
    "print(precoImposto(100))"
   ]
  },
  {
   "cell_type": "code",
   "execution_count": null,
   "id": "285f6027",
   "metadata": {},
   "outputs": [],
   "source": []
  }
 ],
 "metadata": {
  "kernelspec": {
   "display_name": "Python 3",
   "language": "python",
   "name": "python3"
  },
  "language_info": {
   "codemirror_mode": {
    "name": "ipython",
    "version": 3
   },
   "file_extension": ".py",
   "mimetype": "text/x-python",
   "name": "python",
   "nbconvert_exporter": "python",
   "pygments_lexer": "ipython3",
   "version": "3.8.8"
  }
 },
 "nbformat": 4,
 "nbformat_minor": 5
}
