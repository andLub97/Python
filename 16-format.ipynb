{
 "cells": [
  {
   "cell_type": "code",
   "execution_count": 4,
   "id": "16ddd2ab",
   "metadata": {},
   "outputs": [
    {
     "name": "stdout",
     "output_type": "stream",
     "text": [
      "meu email nao eh   andre@gmail.com   , ok?\n"
     ]
    }
   ],
   "source": [
    "#alinhamento\n",
    "email='andre@gmail.com'\n",
    "print(\"meu email nao eh {:^20}, ok?\".format(email))"
   ]
  },
  {
   "cell_type": "code",
   "execution_count": 5,
   "id": "0979b4d3",
   "metadata": {},
   "outputs": [
    {
     "name": "stdout",
     "output_type": "stream",
     "text": [
      "faturamento foi +270 e lucro-230\n"
     ]
    }
   ],
   "source": [
    "custo = 500\n",
    "fat = 270\n",
    "lucro = fat - custo\n",
    "print(\"faturamento foi {:+} e lucro{:+}\".format(fat,lucro))"
   ]
  },
  {
   "cell_type": "code",
   "execution_count": 6,
   "id": "ba3a63a3",
   "metadata": {},
   "outputs": [
    {
     "name": "stdout",
     "output_type": "stream",
     "text": [
      "custo: 500.00\n"
     ]
    }
   ],
   "source": [
    "print('custo: {:.2f}'.format(custo))"
   ]
  },
  {
   "cell_type": "code",
   "execution_count": 7,
   "id": "9b835e22",
   "metadata": {},
   "outputs": [
    {
     "name": "stdout",
     "output_type": "stream",
     "text": [
      "custo: 50000.00%\n"
     ]
    }
   ],
   "source": []
  },
  {
   "cell_type": "code",
   "execution_count": null,
   "id": "f6fcd055",
   "metadata": {},
   "outputs": [],
   "source": []
  }
 ],
 "metadata": {
  "kernelspec": {
   "display_name": "Python 3",
   "language": "python",
   "name": "python3"
  },
  "language_info": {
   "codemirror_mode": {
    "name": "ipython",
    "version": 3
   },
   "file_extension": ".py",
   "mimetype": "text/x-python",
   "name": "python",
   "nbconvert_exporter": "python",
   "pygments_lexer": "ipython3",
   "version": "3.8.8"
  }
 },
 "nbformat": 4,
 "nbformat_minor": 5
}
