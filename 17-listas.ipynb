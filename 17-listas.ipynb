{
 "cells": [
  {
   "cell_type": "code",
   "execution_count": 2,
   "id": "8b556629",
   "metadata": {},
   "outputs": [],
   "source": [
    "produtos = ['celular', 'mouse', 'tablet']\n",
    "vendas = [1000, 135, 0]"
   ]
  },
  {
   "cell_type": "code",
   "execution_count": 4,
   "id": "5e6d87e3",
   "metadata": {},
   "outputs": [
    {
     "name": "stdout",
     "output_type": "stream",
     "text": [
      "vendas de tablet foram de 1000 unidades\n"
     ]
    }
   ],
   "source": [
    "print(\"vendas de {} foram de {} unidades\".format(produtos[2],vendas[0]))"
   ]
  },
  {
   "cell_type": "code",
   "execution_count": 7,
   "id": "6e7edf9d",
   "metadata": {},
   "outputs": [],
   "source": [
    "produtos[2] = 'tv'"
   ]
  },
  {
   "cell_type": "code",
   "execution_count": 8,
   "id": "2fd536d7",
   "metadata": {},
   "outputs": [
    {
     "data": {
      "text/plain": [
       "['celular', 'mouse', 'tv']"
      ]
     },
     "execution_count": 8,
     "metadata": {},
     "output_type": "execute_result"
    }
   ],
   "source": [
    "produtos"
   ]
  },
  {
   "cell_type": "code",
   "execution_count": 10,
   "id": "e9d54f05",
   "metadata": {},
   "outputs": [],
   "source": [
    "index = vendas.index(135)"
   ]
  },
  {
   "cell_type": "code",
   "execution_count": 11,
   "id": "932c7fac",
   "metadata": {},
   "outputs": [
    {
     "data": {
      "text/plain": [
       "1"
      ]
     },
     "execution_count": 11,
     "metadata": {},
     "output_type": "execute_result"
    }
   ],
   "source": [
    "index"
   ]
  },
  {
   "cell_type": "code",
   "execution_count": 14,
   "id": "46a58928",
   "metadata": {},
   "outputs": [
    {
     "name": "stdout",
     "output_type": "stream",
     "text": [
      "2\n"
     ]
    }
   ],
   "source": [
    "print(produtos.index('tv'))"
   ]
  },
  {
   "cell_type": "code",
   "execution_count": 16,
   "id": "94374bc5",
   "metadata": {},
   "outputs": [],
   "source": [
    "produtos.append('notebook')"
   ]
  },
  {
   "cell_type": "code",
   "execution_count": 17,
   "id": "974a3071",
   "metadata": {},
   "outputs": [
    {
     "data": {
      "text/plain": [
       "['celular', 'mouse', 'tv', 'notebook']"
      ]
     },
     "execution_count": 17,
     "metadata": {},
     "output_type": "execute_result"
    }
   ],
   "source": [
    "produtos"
   ]
  },
  {
   "cell_type": "code",
   "execution_count": 18,
   "id": "285389d1",
   "metadata": {},
   "outputs": [],
   "source": [
    "produtos.remove('tv')"
   ]
  },
  {
   "cell_type": "code",
   "execution_count": 19,
   "id": "659b9c3d",
   "metadata": {},
   "outputs": [
    {
     "data": {
      "text/plain": [
       "['celular', 'mouse', 'notebook']"
      ]
     },
     "execution_count": 19,
     "metadata": {},
     "output_type": "execute_result"
    }
   ],
   "source": [
    "produtos"
   ]
  },
  {
   "cell_type": "code",
   "execution_count": 20,
   "id": "64a4f78c",
   "metadata": {},
   "outputs": [
    {
     "data": {
      "text/plain": [
       "'notebook'"
      ]
     },
     "execution_count": 20,
     "metadata": {},
     "output_type": "execute_result"
    }
   ],
   "source": [
    "produtos.pop()"
   ]
  },
  {
   "cell_type": "code",
   "execution_count": 21,
   "id": "8b500a08",
   "metadata": {},
   "outputs": [
    {
     "data": {
      "text/plain": [
       "['celular', 'mouse']"
      ]
     },
     "execution_count": 21,
     "metadata": {},
     "output_type": "execute_result"
    }
   ],
   "source": [
    "produtos"
   ]
  },
  {
   "cell_type": "code",
   "execution_count": 22,
   "id": "ae8c8934",
   "metadata": {},
   "outputs": [
    {
     "data": {
      "text/plain": [
       "'celular'"
      ]
     },
     "execution_count": 22,
     "metadata": {},
     "output_type": "execute_result"
    }
   ],
   "source": [
    "produtos.pop(0)"
   ]
  },
  {
   "cell_type": "code",
   "execution_count": 23,
   "id": "446fab14",
   "metadata": {},
   "outputs": [
    {
     "data": {
      "text/plain": [
       "['mouse']"
      ]
     },
     "execution_count": 23,
     "metadata": {},
     "output_type": "execute_result"
    }
   ],
   "source": [
    "produtos"
   ]
  },
  {
   "cell_type": "code",
   "execution_count": 24,
   "id": "fecc619c",
   "metadata": {},
   "outputs": [],
   "source": [
    "produtos.remove('mouse')"
   ]
  },
  {
   "cell_type": "code",
   "execution_count": 25,
   "id": "f2c453d4",
   "metadata": {},
   "outputs": [
    {
     "data": {
      "text/plain": [
       "[]"
      ]
     },
     "execution_count": 25,
     "metadata": {},
     "output_type": "execute_result"
    }
   ],
   "source": [
    "produtos"
   ]
  },
  {
   "cell_type": "code",
   "execution_count": 27,
   "id": "f2d342b4",
   "metadata": {},
   "outputs": [],
   "source": [
    "try:\n",
    "    produtos.pop()\n",
    "except:\n",
    "    pass\n",
    "    #print(\"não há mais produtos na lista!\")"
   ]
  },
  {
   "cell_type": "code",
   "execution_count": null,
   "id": "7bab3221",
   "metadata": {},
   "outputs": [],
   "source": []
  }
 ],
 "metadata": {
  "kernelspec": {
   "display_name": "Python 3",
   "language": "python",
   "name": "python3"
  },
  "language_info": {
   "codemirror_mode": {
    "name": "ipython",
    "version": 3
   },
   "file_extension": ".py",
   "mimetype": "text/x-python",
   "name": "python",
   "nbconvert_exporter": "python",
   "pygments_lexer": "ipython3",
   "version": "3.8.8"
  }
 },
 "nbformat": 4,
 "nbformat_minor": 5
}
