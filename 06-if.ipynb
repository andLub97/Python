{
 "cells": [
  {
   "cell_type": "code",
   "execution_count": 4,
   "id": "82f8c2cb",
   "metadata": {},
   "outputs": [
    {
     "name": "stdout",
     "output_type": "stream",
     "text": [
      "A meta de vendas foi batida\n"
     ]
    }
   ],
   "source": [
    "meta = 5000\n",
    "qtd = 30000\n",
    "\n",
    "if qtd > meta:\n",
    "    \n",
    "    print(\"A meta de vendas foi batida\")"
   ]
  },
  {
   "cell_type": "code",
   "execution_count": 6,
   "id": "24cdd4e6",
   "metadata": {},
   "outputs": [
    {
     "name": "stdout",
     "output_type": "stream",
     "text": [
      "A meta não foi batida\n"
     ]
    }
   ],
   "source": [
    "meta = 50000\n",
    "qtd = 30000\n",
    "\n",
    "if qtd > meta:\n",
    "    \n",
    "    print(\"A meta de vendas foi batida\")\n",
    "    \n",
    "else:\n",
    "    print(\"A meta não foi batida\")"
   ]
  },
  {
   "cell_type": "code",
   "execution_count": null,
   "id": "32eeae17",
   "metadata": {},
   "outputs": [],
   "source": []
  }
 ],
 "metadata": {
  "kernelspec": {
   "display_name": "Python 3",
   "language": "python",
   "name": "python3"
  },
  "language_info": {
   "codemirror_mode": {
    "name": "ipython",
    "version": 3
   },
   "file_extension": ".py",
   "mimetype": "text/x-python",
   "name": "python",
   "nbconvert_exporter": "python",
   "pygments_lexer": "ipython3",
   "version": "3.8.8"
  }
 },
 "nbformat": 4,
 "nbformat_minor": 5
}
