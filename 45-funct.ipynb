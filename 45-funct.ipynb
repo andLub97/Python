{
 "cells": [
  {
   "cell_type": "code",
   "execution_count": 2,
   "id": "020570d9",
   "metadata": {},
   "outputs": [
    {
     "name": "stdout",
     "output_type": "stream",
     "text": [
      "Alcoólico\n",
      "Não alcoólico\n",
      "Alcoólico\n"
     ]
    }
   ],
   "source": [
    "def categoria(bebida, codigo):\n",
    "    bebida = bebida.upper()\n",
    "    if codigo in bebida:\n",
    "        return True\n",
    "    else:\n",
    "        return False\n",
    "    \n",
    "produtos = ['CAR46275','BEB46275','BSA46275','BEB46275']\n",
    "\n",
    "for produto in produtos:\n",
    "    if categoria(produto,'BEB'):\n",
    "        print('Alcoólico')\n",
    "    elif categoria(produto,'BSA'):\n",
    "        print('Não alcoólico')"
   ]
  },
  {
   "cell_type": "code",
   "execution_count": 6,
   "id": "cf1cb8ed",
   "metadata": {},
   "outputs": [
    {
     "name": "stdout",
     "output_type": "stream",
     "text": [
      "quantidade de produtos  4\n"
     ]
    }
   ],
   "source": [
    "\n",
    "print('quantidade de produtos ', len(produtos))"
   ]
  },
  {
   "cell_type": "code",
   "execution_count": null,
   "id": "427abbe7",
   "metadata": {},
   "outputs": [],
   "source": []
  }
 ],
 "metadata": {
  "kernelspec": {
   "display_name": "Python 3",
   "language": "python",
   "name": "python3"
  },
  "language_info": {
   "codemirror_mode": {
    "name": "ipython",
    "version": 3
   },
   "file_extension": ".py",
   "mimetype": "text/x-python",
   "name": "python",
   "nbconvert_exporter": "python",
   "pygments_lexer": "ipython3",
   "version": "3.8.8"
  }
 },
 "nbformat": 4,
 "nbformat_minor": 5
}
